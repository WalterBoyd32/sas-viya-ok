{
 "cells": [
  {
   "cell_type": "markdown",
   "id": "adb1c474-4942-41ac-ab29-7e06ca6f559f",
   "metadata": {},
   "source": [
    "# Overview\n",
    "\n",
    "The following example demonstrates a data science workflow using real world, publicly available monthly data on crimes against senior citizens collected by law enforcement agencies in California. The CSV data file used for this example can be obtained from https://data-openjustice.doj.ca.gov/sites/default/files/dataset/2022-08/VCASC2000-2021.csv.\n",
    "\n",
    "This example focuses on the process of reshaping a data set from long to wide format."
   ]
  },
  {
   "cell_type": "markdown",
   "id": "c3ce8e5a-fba3-4da3-be06-10235bf59ce4",
   "metadata": {},
   "source": [
    "# Load the SWAT Library and Connect to the CAS Server\n",
    "\n",
    "Load the SWAT library and then create a connection to the CAS server using the CAS function and assign the CAS connection object to the variable s. The first argument specifies the host name and the second argument specifies the port."
   ]
  },
  {
   "cell_type": "code",
   "execution_count": null,
   "id": "1355a8f0-85d1-4842-959f-b1c785378a9e",
   "metadata": {},
   "outputs": [],
   "source": [
    "import swat\n",
    "# change the host and port to match your site\n",
    "s = swat.CAS(\"cloud.example.com\", 10065)"
   ]
  },
  {
   "cell_type": "markdown",
   "id": "8a664efd-1d08-4879-a600-f565c95433a9",
   "metadata": {},
   "source": [
    "# Load the Data\n",
    "\n",
    "## Load the Data from a Caslib\n",
    "\n",
    "The default method of loading data is to load the data from the data source portion of a caslib, which is known as a server-side load. This requires the data file to be saved in the active caslib (Casuser). Once the file has been saved to the caslib, use the table.loadTable action to load the VCASC2000-2021.csv file from the data source portion of the Caslib into memory as a CAS table.\n",
    "\n",
    "In the casOut parameter, specify that the data is saved as a table named vcasc.\n",
    "In the importOptions parameter, specify CSV for the fileType.\n",
    "For encoding, specify latin1.\n",
    "For guessRows, specify a number that includes all rows in the data set, such as 200,000 so that all rows will be scanned to determine the appropriate data type for each column."
   ]
  },
  {
   "cell_type": "code",
   "execution_count": null,
   "id": "84d39a67-d11e-480f-af97-4b6718622a97",
   "metadata": {},
   "outputs": [],
   "source": [
    "s.table.loadTable(path=\"VCASC2000-2021.csv\",\n",
    "                  caslib=\"casuser\",\n",
    "                  casOut={\"name\":\"vcasc\", \n",
    "                          \"replace\":True},\n",
    "                  importOptions={\"fileType\":\"CSV\",\n",
    "                                 \"encoding\":\"latin1\",\n",
    "                                 \"guessrows\":200000})"
   ]
  },
  {
   "cell_type": "markdown",
   "id": "b61b7c25-bfdf-4258-b629-c2c88444a565",
   "metadata": {},
   "source": [
    "## Load a Client-Side File into CAS\n",
    "\n",
    "Another method of loading data into CAS memory is to load the data from an external source that is accessible to the CAS server. This example uses the upload_file function to perform a client-side load."
   ]
  },
  {
   "cell_type": "code",
   "execution_count": null,
   "id": "ee63e47f-716d-428e-8de8-e3c10a701673",
   "metadata": {},
   "outputs": [],
   "source": [
    "s.read_csv(\"https://data-openjustice.doj.ca.gov/sites/default/files/dataset/2022-08/VCASC2000-2021.csv\", \n",
    "           encoding='latin1',\n",
    "           casout={\"name\":\"vcasc\", \n",
    "                   \"caslib\":\"casuser\",\n",
    "                   \"replace\":True})  "
   ]
  },
  {
   "cell_type": "markdown",
   "id": "9e19db9d-a8fd-4a93-bd11-14cb79cfdea3",
   "metadata": {},
   "source": [
    "# Explore the Data\n",
    "\n",
    "Examine the rows and columns in the data."
   ]
  },
  {
   "cell_type": "markdown",
   "id": "7806b8ac-f2a0-45b8-9e78-cb6eed2d34ce",
   "metadata": {},
   "source": [
    "## Reference the In-Memory Table"
   ]
  },
  {
   "cell_type": "code",
   "execution_count": null,
   "id": "a77aa629-d635-420a-9323-751901f9d5a3",
   "metadata": {},
   "outputs": [],
   "source": [
    "tbl = s.CASTable(name='vcasc', caslib='casuser')"
   ]
  },
  {
   "cell_type": "markdown",
   "id": "ae6511f4-bd47-4734-95d0-fabe1c8ca4a0",
   "metadata": {},
   "source": [
    "## Examine the Rows\n",
    "\n",
    "The table.fetch action can be used to retrieve a specified number of rows from the data. Here, the parameter n=20 is specified, which indicates that the first 20 rows are retrieved. The fetch action shows that the data is presented in a long format, where monthly crime counts reported by each agency (NCIC_AGENCY_CODE) are distributed across multiple rows rather than multiple columns. In other words, for each unique reporting agency, there is a separate row for each month of the year with the counts of each crime type reported for that month."
   ]
  },
  {
   "cell_type": "code",
   "execution_count": null,
   "id": "3d0ec6a3-1af9-4d1c-9920-fc4c5d5d3917",
   "metadata": {},
   "outputs": [],
   "source": [
    "tbl.fetch(to=20)"
   ]
  },
  {
   "cell_type": "markdown",
   "id": "8b460167-4b71-445f-a49f-483c8d6a8bdb",
   "metadata": {},
   "source": [
    "## Examine the Columns\n",
    "\n",
    "Use the table.columnInfo action to obtain metadata about the table. The result includes the names of columns, and information about each column, including its label (if applicable), type, length, and format. The results show that the columns are the appropriate types."
   ]
  },
  {
   "cell_type": "code",
   "execution_count": null,
   "id": "8c2c5ec2-89bb-41b5-a606-9d7e30d4f319",
   "metadata": {},
   "outputs": [],
   "source": [
    "tbl.columnInfo()"
   ]
  },
  {
   "cell_type": "markdown",
   "id": "f26bfb8f-0733-4c60-a3a8-427d49bcc6ce",
   "metadata": {},
   "source": [
    "## Identify Unique Values of the Year Column\n",
    "\n",
    "Examine the YEAR column using a simple.freq to create a frequency distribution showing the unique values of year. The result shows that data are available for the years 2000 to 2021."
   ]
  },
  {
   "cell_type": "code",
   "execution_count": null,
   "id": "e3ac0a5d-c8e1-4159-83b2-56d9b3d7c3de",
   "metadata": {},
   "outputs": [],
   "source": [
    "tbl.freq(inputs={\"Year\"})"
   ]
  },
  {
   "cell_type": "markdown",
   "id": "6b6b5fad-6de1-4ee3-b01a-ff3dab9117ce",
   "metadata": {},
   "source": [
    "# Prepare and Analyze the Data\n",
    "\n",
    "## Filter Rows\n",
    "\n",
    "This example will use data from 2021 only. Therefore, data for all other years should be filtered out. The table.deleteRows action can be used to remove rows from a table. The where subparameter specifies that any rows satisfying the condition will be deleted."
   ]
  },
  {
   "cell_type": "code",
   "execution_count": null,
   "id": "b341c78c-1bfc-4c05-89d7-e37b9156f2dc",
   "metadata": {},
   "outputs": [],
   "source": [
    "tbl.where = \"YEAR NE 2021\"\n",
    "tbl.deleteRows()"
   ]
  },
  {
   "cell_type": "markdown",
   "id": "1b6effb5-2a50-43f9-a577-6976d2eecbce",
   "metadata": {},
   "source": [
    "## Reshape the Data from Long to Wide Format\n",
    "\n",
    "The data are currently in a long format with many rows and few columns. The data can be reshaped into a wide format with few rows and many columns. In the wide format, information about each observation (for example, number of crimes in each month) is stored in separate columns, rather than rows. The wide format shows only one row for each unique value of the key column that uniquely identifies observations. Certain statistical techniques might require data to be in the wide format.\n",
    "\n",
    "The dataShaping.longToWide action is used to reshape a table from long to wide. Here, the long table vcasc is reshaped into a wide table named vcascWide.\n",
    "\n",
    "For the groupBy subparameter, specify the column NCIC_AGENCY_CODE as the column used to define the groups and whose values will be collapsed so that the reshaped data contains a single row for each unique value of the column.\n",
    "\n",
    "For the optional groupByMode subparameter, specify REDISTRIBUTE to guarantee ordering within groups.\n",
    "\n",
    "For the id parameter, specify MONTH as the column whose unique values will be used to define the columns in the reshaped table.\n",
    "\n",
    "For the inputs parameter, specify a column containing statistics, such as SUB_ROBBERY, as the column whose values will be the values of the newly created columns in the reshaped wide table.\n",
    "\n",
    "Because the month column specified in the id parameter contains 12 unique values that are used to create the corresponding columns in the wide data, specify a value of 12 for the maxPosition parameter.\n",
    "\n",
    "Include the parameters sum and mean and specify SUB_ROBBERY as the argument to calculate these statistics for each observation across all 12 month columns in the reshaped data."
   ]
  },
  {
   "cell_type": "code",
   "execution_count": null,
   "id": "b016e568-dd4e-4505-872b-ecca0a9d1ae0",
   "metadata": {},
   "outputs": [],
   "source": [
    "del tbl.where\n",
    "\n",
    "s.builtins.loadActionSet(\"dataShaping\")            \n",
    "\n",
    "s.dataShaping.longToWide(                        \n",
    "      table={\"name\":\"vcasc\",                      \n",
    "             \"groupBy\":\"NCIC_AGENCY_CODE\",\n",
    "             \"groupByMode\":\"REDISTRIBUTE\"},\n",
    "      inputs={\"SUB_ROBBERY\"},      \n",
    "      sum={\"SUB_ROBBERY\"},\n",
    "      mean={\"SUB_ROBBERY\"},\n",
    "      maxPosition=12,\n",
    "      id={\"MONTH\"},                                                             \n",
    "      casout={\"name\":\"vcascWide\", \n",
    "              \"replace\":True})\n",
    "\n",
    "tbl_wide = s.CASTable(\"vcascWide\", caslib=\"casuser\")"
   ]
  },
  {
   "cell_type": "markdown",
   "id": "653806f3-684f-4e1f-a6e9-5f3df3b2d9aa",
   "metadata": {},
   "source": [
    "Use the table.fetch action to view the first 10 rows of the reshaped table vcascWide. The reshaped table now shows only a single row for each unique value of NCIC_AGENCY_CODE. Each of the unique values of the MONTH column defines the column names (for example, month 1 is SUB_ROBBERY_0, month 2 is SUB_ROBBERY_1, and so on).The values of the SUB_ROBBERY column are stored in the columns that correspond to the unique values of the MONTH column."
   ]
  },
  {
   "cell_type": "code",
   "execution_count": null,
   "id": "72aaa027-8fa1-4b39-84c6-2fc8f8e0b8e0",
   "metadata": {},
   "outputs": [],
   "source": [
    "tbl_wide.fetch(to=10)"
   ]
  },
  {
   "cell_type": "markdown",
   "id": "a8f4f075-bf33-43fd-a74d-bee15f4e25be",
   "metadata": {},
   "source": [
    "Examine the data to confirm that there is now only 1 row for each distinct value. Use the simple.distinct action to count the distinct values of the groupBy column (NCIC_AGENCY_CODE)."
   ]
  },
  {
   "cell_type": "code",
   "execution_count": null,
   "id": "85801847-2920-47ac-b0ca-69457fc3246c",
   "metadata": {},
   "outputs": [],
   "source": [
    "tbl_wide.distinct(inputs=[{\"name\":\"NCIC_AGENCY_CODE\"}])"
   ]
  },
  {
   "cell_type": "markdown",
   "id": "ff945774-f3fa-49af-853f-4cacd15d0c96",
   "metadata": {},
   "source": [
    "Use the table.recordCount action to count the number of rows in the data. The resulting count matches the number of distinct values of NCIC_AGENCY_CODE."
   ]
  },
  {
   "cell_type": "code",
   "execution_count": null,
   "id": "3ab9bfec-57f4-4818-bcc5-94d93a413d65",
   "metadata": {},
   "outputs": [],
   "source": [
    "tbl_wide.recordCount()"
   ]
  },
  {
   "cell_type": "markdown",
   "id": "e38f3bd0-3944-4fa8-968e-24e8d1e79d4f",
   "metadata": {},
   "source": [
    "## Clean the Reshaped Table\n",
    "\n",
    "Use the table.alterTable action to modify the reshaped table to make it easier to read by removing undeeded columns (MONTH and _Frequency_) and renaming the columns containing computed statistics and the monthly counts to their corresponding months. The MONTH and the _Frequency_ columns were created during the reshaping process but contain unnecessary information and can be dropped from the wide table."
   ]
  },
  {
   "cell_type": "code",
   "execution_count": null,
   "id": "155838db-b252-445b-809b-caee54561703",
   "metadata": {},
   "outputs": [],
   "source": [
    "tbl_wide.alterTable(columns=[{\"name\":\"SUB_ROBBERY_0\", \"rename\":\"Jan\"},\n",
    "                             {\"name\":\"SUB_ROBBERY_1\", \"rename\":\"Feb\"},\n",
    "                             {\"name\":\"SUB_ROBBERY_2\", \"rename\":\"Mar\"},\n",
    "                             {\"name\":\"SUB_ROBBERY_3\", \"rename\":\"Apr\"},\n",
    "                             {\"name\":\"SUB_ROBBERY_4\", \"rename\":\"May\"},\n",
    "                             {\"name\":\"SUB_ROBBERY_5\", \"rename\":\"Jun\"},\n",
    "                             {\"name\":\"SUB_ROBBERY_6\", \"rename\":\"Jul\"},\n",
    "                             {\"name\":\"SUB_ROBBERY_7\", \"rename\":\"Aug\"},\n",
    "                             {\"name\":\"SUB_ROBBERY_8\", \"rename\":\"Sep\"},\n",
    "                             {\"name\":\"SUB_ROBBERY_9\", \"rename\":\"Oct\"},\n",
    "                             {\"name\":\"SUB_ROBBERY_10\", \"rename\":\"Nov\"},\n",
    "                             {\"name\":\"SUB_ROBBERY_11\", \"rename\":\"Dec\"},\n",
    "                             {\"name\":\"SUB_ROBBERY_sum\", \"rename\":\"Total\"},\n",
    "                             {\"name\":\"SUB_ROBBERY_mean\", \"rename\":\"Average\"},\n",
    "                    ],\n",
    "                    drop=[\"MONTH\", \"_Frequency_\"])         "
   ]
  },
  {
   "cell_type": "markdown",
   "id": "7f4dba0a-26aa-4871-aef0-9a2041e9819b",
   "metadata": {},
   "source": [
    "Use a second alterTable action to reorder the NCIC_AGENCY_CODE column so that it is the first column in the data."
   ]
  },
  {
   "cell_type": "code",
   "execution_count": null,
   "id": "cec58492-277f-4988-a048-f82f6ffdeceb",
   "metadata": {},
   "outputs": [],
   "source": [
    "tbl_wide.alterTable(columnOrder=[\"NCIC_AGENCY_CODE\"])"
   ]
  },
  {
   "cell_type": "markdown",
   "id": "d85bdbf5-b38a-426e-8148-709694d52be8",
   "metadata": {},
   "source": [
    "Use a table.fetch action to view the cleaned table. The table now shows the NCIC_AGENCY_CODE column first and each of the reshaped monthly count columns has been renamed according to the month that it represents. The table also includes the columns Average and Total containing the calculated statistics."
   ]
  },
  {
   "cell_type": "code",
   "execution_count": null,
   "id": "e1230950-02bb-4324-954d-885f8628a033",
   "metadata": {},
   "outputs": [],
   "source": [
    "tbl_wide.fetch(index=False)"
   ]
  },
  {
   "cell_type": "markdown",
   "id": "7f20e5e7-c29f-41b1-9ea0-bab869e9fb03",
   "metadata": {},
   "source": [
    "## Add a New Column\n",
    "\n",
    "The table.copyTable action with the computedVarsProgram subparameter can be used to calculate or add new columns in a table. Using the vcascWide table, create a new column to indicate that the counts are specifically for robberies and name the output table vcascWideType."
   ]
  },
  {
   "cell_type": "code",
   "execution_count": null,
   "id": "25965e8d-c166-47df-a169-fa489f8f7ae2",
   "metadata": {},
   "outputs": [],
   "source": [
    "tbl_wide.computedVars = {\"name\":\"TYPE\"}\n",
    "tbl_wide.computedVarsProgram = \"TYPE='Robbery'\"\n",
    "\n",
    "tbl_wide.copyTable(casOut={\"caslib\":\"casuser\",          \n",
    "                          \"name\":\"vcascWideType\", \n",
    "                          \"replace\":True})\n",
    "\n",
    "tbl_widetype = s.CASTable(\"vcascWideType\", caslib=\"casuser\")"
   ]
  },
  {
   "cell_type": "markdown",
   "id": "c4629dbd-203f-4d54-b5f2-716735891f83",
   "metadata": {},
   "source": [
    "## View the Reshaped Table Sorted by Total Column\n",
    "\n",
    "Show the top 10 reporting agencies with the highest total number of robberies. Use a table.fetch action and sort by the total column in descending order."
   ]
  },
  {
   "cell_type": "code",
   "execution_count": null,
   "id": "981677a6-cea1-4377-a9dc-ef83029e3aac",
   "metadata": {},
   "outputs": [],
   "source": [
    "tbl_widetype.fetch(to=10, \n",
    "                   sortBy=[{\"name\":\"TOTAL\", \"order\":\"DESCENDING\"}])"
   ]
  }
 ],
 "metadata": {
  "kernelspec": {
   "display_name": "Python 3 (ipykernel)",
   "language": "python",
   "name": "python3"
  },
  "language_info": {
   "codemirror_mode": {
    "name": "ipython",
    "version": 3
   },
   "file_extension": ".py",
   "mimetype": "text/x-python",
   "name": "python",
   "nbconvert_exporter": "python",
   "pygments_lexer": "ipython3",
   "version": "3.9.7"
  }
 },
 "nbformat": 4,
 "nbformat_minor": 5
}
