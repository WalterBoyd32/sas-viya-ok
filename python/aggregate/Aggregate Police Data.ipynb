{
 "cells": [
  {
   "cell_type": "markdown",
   "id": "734fdb78-efd1-4760-927a-8431068bff1a",
   "metadata": {},
   "source": [
    "# Overview\n",
    "\n",
    "The following example demonstrates a data science workflow using real world, publicly available data records on individual police stops from the New York City Police Department in 2019. The Excel (XLSX) data file used for this example can be obtained from https://www1.nyc.gov/assets/nypd/downloads/excel/analysis_and_planning/stop-question-frisk/sqf-2019.xlsx.\n",
    "\n",
    "This example focuses on the process of aggregating data and reshaping data between long and wide formats."
   ]
  },
  {
   "cell_type": "markdown",
   "id": "248a8127-ce34-48a8-afcc-672fabc1a7f6",
   "metadata": {},
   "source": [
    "# Load the SWAT Library and Connect to the CAS Server\n",
    "\n",
    "Load the SWAT library and then create a connection to the CAS server using the CAS function and assign the CAS connection object to the variable s. The first argument specifies the host name, and the second argument specifies the port."
   ]
  },
  {
   "cell_type": "code",
   "execution_count": null,
   "id": "a4e3add9-087c-48d9-977e-59478926a78a",
   "metadata": {},
   "outputs": [],
   "source": [
    "import swat\n",
    "# change the host and port to match your site\n",
    "s = swat.CAS(\"cloud.example.com\", 10065)"
   ]
  },
  {
   "cell_type": "markdown",
   "id": "1259e067-2e9b-4c37-a701-50c983e7a71f",
   "metadata": {},
   "source": [
    "# Load the Data\n",
    "\n",
    "## Load the Excel Data from a Caslib\n",
    "\n",
    "The default method of loading data is to load the data from the data source portion of a caslib, which is known as a server-side load. This requires the data file to be saved in the active caslib (Casuser). Once the file has been saved to the caslib, use the table.loadTable action to load the sqf-2019.xlsx Excel file from the data source portion of the caslib into memory as a CAS table named sqf2019.\n",
    "\n",
    "In the getNames subparameter, specify an argument of True to use the first row as column names.\n",
    "In the range subparameter, specify a range of cells that includes all rows in the data."
   ]
  },
  {
   "cell_type": "code",
   "execution_count": null,
   "id": "ae295dc5-16db-432f-a867-841312dcb494",
   "metadata": {},
   "outputs": [],
   "source": [
    "s.table.loadTable(path=\"sqf-2019.xlsx\",                 \n",
    "                  casOut={\"name\":\"sqf2019\",\n",
    "                          \"replace\":True},\n",
    "                  importOptions={\"fileType\":\"Excel\",           \n",
    "                                 \"getNames\":True,            \n",
    "                                 \"sheet\":\"SQF CY 2019\",         \n",
    "                                 \"range\":\"SQF CY 2019$A1:CE13460\"})"
   ]
  },
  {
   "cell_type": "markdown",
   "id": "c0e2eabe-d49c-45c8-9660-161de8849862",
   "metadata": {},
   "source": [
    "## Load a Client-Side Excel Data File into CAS\n",
    "\n",
    "Another method of loading data into CAS memory is to load the data from an external source that is accessible to the CAS server. This example uses the upload_file function to perform a client-side load."
   ]
  },
  {
   "cell_type": "code",
   "execution_count": null,
   "id": "0f1983f1-a1e7-49d6-be9c-1893cc6498ad",
   "metadata": {},
   "outputs": [],
   "source": [
    "s.upload_file(\"https://www1.nyc.gov/assets/nypd/downloads/excel/analysis_and_planning/stop-question-frisk/sqf-2019.xlsx\",   \n",
    "              casOut={\"name\":\"sqf2019\",\n",
    "                      \"replace\":True},\n",
    "              importOptions={\"fileType\":\"Excel\",           \n",
    "                             \"getNames\":True,            \n",
    "                             \"sheet\":\"SQF CY 2019\",         \n",
    "                             \"range\":\"SQF CY 2019$A1:CE13460\"})    "
   ]
  },
  {
   "cell_type": "markdown",
   "id": "d89d55f1-1b11-403a-bc04-70d28e634581",
   "metadata": {},
   "source": [
    "# Explore the Data\n",
    "\n",
    "Examine the rows and columns in the data."
   ]
  },
  {
   "cell_type": "markdown",
   "id": "1d20c422-1414-4736-96e9-e62397402f16",
   "metadata": {},
   "source": [
    "## Reference the In-Memory Table"
   ]
  },
  {
   "cell_type": "code",
   "execution_count": null,
   "id": "32d8cf9d-7e42-4d13-8964-de94e1bb1e19",
   "metadata": {},
   "outputs": [],
   "source": [
    "tbl = s.CASTable(name='sqf2019', caslib='casuser')"
   ]
  },
  {
   "cell_type": "markdown",
   "id": "5be99ba4-d4f4-4ee0-af66-c4a5c84ce45c",
   "metadata": {},
   "source": [
    "## Examine the Rows\n",
    "\n",
    "Use a table.fetch action to retrieve the first 20 rows from the sqf2019 table."
   ]
  },
  {
   "cell_type": "code",
   "execution_count": null,
   "id": "c31041a7-b766-48dd-b7ac-a6efc0be3204",
   "metadata": {},
   "outputs": [],
   "source": [
    "tbl.fetch(to=20)"
   ]
  },
  {
   "cell_type": "markdown",
   "id": "30c3ca8c-d017-4063-906a-1810bf6d79a5",
   "metadata": {},
   "source": [
    "## Examine the Columns\n",
    "\n",
    "Use the table.columnInfo action to obtain metadata about the table. The result includes the names of columns, and information about each column, including its label (if applicable), type, length, and format. The results show that the columns are the appropriate types."
   ]
  },
  {
   "cell_type": "code",
   "execution_count": null,
   "id": "6ea66105-92af-4183-8c50-0f4d3416d802",
   "metadata": {},
   "outputs": [],
   "source": [
    "tbl.columnInfo()"
   ]
  },
  {
   "cell_type": "markdown",
   "id": "e20b5af2-01a6-4eb1-a11e-8e0b37d50c24",
   "metadata": {},
   "source": [
    "# Prepare the Data\n",
    "\n",
    "## Aggregate the Wide Data\n",
    "\n",
    "The data are currently in a wide format with one row for each unique value of the STOP_ID_ANONY column which uniquely identifies observations. The data will need to be aggregated by month (MONTH2), day of week (DAY2), and borough name (STOP_LOCATION_BORO_NAME) columns using the aggregation.aggregate action to show the number of observations (stops) for each unique combination of the values of the variables.\n",
    "\n",
    "Load the aggregation action set.\n",
    "In the groupBy subparameter, specify the columns MONTH2, DAY2, and STOP_LOCATION_BORO_NAME to aggregate on those variables.\n",
    "In the varSpecs subparameter, specify STOP_ID_ANONY for the name parameter because this column uniquely identifies rows in the data set.\n",
    "In the subset subparameter, specify N to calculate row frequencies based on the nonmissing values of this column."
   ]
  },
  {
   "cell_type": "code",
   "execution_count": null,
   "id": "58a284a9-1550-4a21-b8f5-b6fbb646083a",
   "metadata": {},
   "outputs": [],
   "source": [
    "s.builtins.loadActionSet(\"aggregation\")\n",
    "\n",
    "tbl.groupBy = {\"MONTH2\", \"DAY2\", \"STOP_LOCATION_BORO_NAME\"}\n",
    "\n",
    "tbl.aggregate(varSpecs=[{\"name\":\"STOP_ID_ANONY\", \n",
    "                                \"subset\":{\"N\"}}],\n",
    "              casOut={\"name\":\"sqfAnalysis\",                       \n",
    "                             \"caslib\":\"casuser\",\n",
    "                             \"replace\":True})\n",
    "\n",
    "tbl_analysis = s.CASTable(\"sqfAnalysis\", caslib=\"casuser\")"
   ]
  },
  {
   "cell_type": "markdown",
   "id": "d50fd45b-267f-4336-a290-f5472b7820e6",
   "metadata": {},
   "source": [
    "Use a table.fetch command to view the aggregated data. Each row now represents a group of observations with a unique combination of the values MONTH2, DAY2, and STOP_LOCATION_BORO_NAME, and the count of the number of observations in each group. The data can also be considered as a long data set because there are multiple rows for each unique value of STOP_LOCATION_BORO_NAME. Each row in a group of rows with the same value of STOP_LOCATION_BORO_NAME has a unique combination of the values of DAY2 and MONTH2."
   ]
  },
  {
   "cell_type": "code",
   "execution_count": null,
   "id": "1335ecf2-e9ac-4adf-8dff-62950c83b604",
   "metadata": {},
   "outputs": [],
   "source": [
    "del tbl.groupBy\n",
    "\n",
    "tbl_analysis.fetch()"
   ]
  },
  {
   "cell_type": "markdown",
   "id": "dcf810aa-e09e-48ff-a3ef-6a82d842c827",
   "metadata": {},
   "source": [
    "## Examine the Column Values\n",
    "\n",
    "Ensure that columns do not contain any unexpected values. Use the simple.freq action to obtain the unique values of the columns. The results show that there are no data errors."
   ]
  },
  {
   "cell_type": "code",
   "execution_count": null,
   "id": "005c8f6d-4316-40dc-a2c7-039de6e8608c",
   "metadata": {},
   "outputs": [],
   "source": [
    "tbl_analysis.freq(inputs=[{\"name\":\"DAY2\"},\n",
    "                          {\"name\":\"MONTH2\"},\n",
    "                          {\"name\":\"STOP_LOCATION_BORO_NAME\"}])"
   ]
  },
  {
   "cell_type": "markdown",
   "id": "2145aaf0-b2c6-4bc7-a7bf-8f6383d73fcd",
   "metadata": {},
   "source": [
    "## Reshape the Data from Long to Wide\n",
    "\n",
    "The data can now be reshaped into a wide data file. First, use the simple.groupByInfo action to create a table named orderByTBL that contains the unique values of the STOP_LOCATION_BORO_NAME column. These values are used to provide more descriptive names for the columns created in the reshaped data instead of the default names (for example, Bronx instead of 0, Brooklyn instead of 1, and so on). Fetch the rows from the orderByTBL table."
   ]
  },
  {
   "cell_type": "code",
   "execution_count": null,
   "id": "bf6819a1-f38f-4fc2-b725-014dd6488330",
   "metadata": {},
   "outputs": [],
   "source": [
    "tbl_analysis.groupByInfo(noVars=True,\n",
    "                         generatedColumns={\"F\"},\n",
    "                         inputs=[\"STOP_LOCATION_BORO_NAME\"],\n",
    "                         casOut={\"name\":\"orderByTbl\",\n",
    "                                 \"replace\":True})\n",
    "\n",
    "s.table.fetch(table=\"orderByTBL\")     "
   ]
  },
  {
   "cell_type": "markdown",
   "id": "92943ca5-2329-46d6-bf6a-871cf359797d",
   "metadata": {},
   "source": [
    "Load the dataShaping action set and use the longToWide action to reshape the sqfAnalysis table from long to wide.\n",
    "\n",
    "For the groupBy subparameter, specify the column MONTH2 and DAY2 as the columns used to define the groups. The values of these columns will be collapsed so that each row in the reshaped data is a group with a unique combination of the values of the two columns.\n",
    "\n",
    "For the optional groupByMode subparameter, specify REDISTRIBUTE to guarantee ordering within groups.\n",
    "\n",
    "For the id parameter, specify STOP_LOCATION_BORO_NAME as the column whose unique values will be used to define the columns in the reshaped table.\n",
    "\n",
    "For the inputs parameter, specify the column containing frequencies, _STOP_ID_ANONY_Summary_NObs_, as the column whose values will be the values of the newly created columns in the reshaped wide table.\n",
    "\n",
    "Because the STOP_LOCATION_BORO_NAME column specified in the id parameter contains 5 unique values (5 distinct borough names) that are used to create the corresponding columns in the wide data, specify a value of 5 for the maxPosition parameter.\n",
    "\n",
    "Include the optional orderBytable parameter, specifying the orderByTbl table that contains the unique values of the STOP_LOCATION_BORO_NAME column, which are used to provide more descriptive names for the columns created in the reshaped data."
   ]
  },
  {
   "cell_type": "code",
   "execution_count": null,
   "id": "9f6d3181-52be-4b10-ad40-5c665ee0a81a",
   "metadata": {},
   "outputs": [],
   "source": [
    "s.builtins.loadActionSet(\"dataShaping\")       \n",
    "\n",
    "s.dataShaping.longToWide(table={\"name\":\"sqfAnalysis\",                      \n",
    "                                \"groupBy\":[{\"name\":\"MONTH2\"},\n",
    "                                           {\"name\":\"DAY2\"}],\n",
    "                                \"orderBy\":\"STOP_LOCATION_BORO_NAME\",\n",
    "                                \"groupByMode\":\"REDISTRIBUTE\"},\n",
    "                         inputs={\"_STOP_ID_ANONY_Summary_NObs_\"},    \n",
    "                         orderBytable={\"name\":\"orderByTbl\"},    \n",
    "                         maxPosition=5,\n",
    "                         id={\"STOP_LOCATION_BORO_NAME\"},                                                             \n",
    "                         casout={\"name\":\"sqfWide\", \n",
    "                                 \"replace\":True})\n",
    "\n",
    "tbl_wide = s.CASTable(\"sqfWide\", caslib=\"casuser\")"
   ]
  },
  {
   "cell_type": "markdown",
   "id": "10114416-56b7-4b1b-aa3c-6ed0ea3cdc3c",
   "metadata": {},
   "source": [
    "Use the table.fetch action to view the first 20 rows from the reshaped wide table sqfWide, sorting by MONTH2 and DAY2 in ascending order. The result shows that the values of STOP_LOCATION_BORO_NAME column are used as suffixes in the names of newly created columns in the wide data."
   ]
  },
  {
   "cell_type": "code",
   "execution_count": null,
   "id": "52db3746-c911-4343-8506-a3b189635349",
   "metadata": {},
   "outputs": [],
   "source": [
    "tbl_wide.fetch(to=20,\n",
    "               sortBy=[{\"name\":\"MONTH2\", \"order\":\"ASCENDING\"}, \n",
    "                       {\"name\":\"DAY2\", \"order\":\"ASCENDING\"}])"
   ]
  },
  {
   "cell_type": "markdown",
   "id": "1f858907-b7b6-4e00-aded-3239d1d8e79d",
   "metadata": {},
   "source": [
    "## Reshape Data from Wide to Long\n",
    "\n",
    "The wide data can be reshaped back to long data. Use the wideToLong action to reshape from wide to long.\n",
    "\n",
    "In the inputs parameter, specify the names of the columns that will become the values stored in a single variable in the reshaped long data that identifies the stop location borough name.\n",
    "In the id parameter, specify the columns MONTH2 and DAY2 so that there are multiple rows for each unique combination of the values of those columns. Each row in a group of rows with the same value of MONTH2 and the same value of DAY2 has a unique value of the STOP_LOCATION_BORO_NAME."
   ]
  },
  {
   "cell_type": "code",
   "execution_count": null,
   "id": "8b990ae8-9ee4-4b0e-955f-9f7bf69c9959",
   "metadata": {},
   "outputs": [],
   "source": [
    "s.builtins.loadActionSet(\"dataShaping\")\n",
    "\n",
    "tbl_wide.wideToLong(inputs={\"_STOP_ID_ANONY_Summary_NObs_BRONX\",     \n",
    "                            \"_STOP_ID_ANONY_Summary_NObs_BROOKLYN\",\n",
    "                            \"_STOP_ID_ANONY_Summary_NObs_MANHATTAN\",\n",
    "                            \"_STOP_ID_ANONY_Summary_NObs_QUEENS\",\n",
    "                            \"_STOP_ID_ANONY_Summary_NObs_STATEN ISLAND\"},\n",
    "                    id={\"MONTH2\", \n",
    "                        \"DAY2\"}, \n",
    "                    casout={\"name\":\"sqfLong\", \n",
    "                            \"replace\":True})\n",
    "\n",
    "tbl_long = s.CASTable(\"sqfLong\", caslib=\"casuser\")"
   ]
  },
  {
   "cell_type": "markdown",
   "id": "aa012683-e297-4443-b696-ff4dfbe410fd",
   "metadata": {},
   "source": [
    "Fetch the first 20 rows from the resulting sqfLong table. The resulting table shows there are multiple rows for each unique combination of the values of those columns. For each group of rows created based on a unique combination of the values of MONTH2 and DAY2, there is a separate row for each unique value of the STOP_LOCATION_BORO_NAME."
   ]
  },
  {
   "cell_type": "code",
   "execution_count": null,
   "id": "877aa5c9-4a8d-4878-934b-21a4a4f05670",
   "metadata": {},
   "outputs": [],
   "source": [
    "tbl_long.fetch()"
   ]
  },
  {
   "cell_type": "markdown",
   "id": "08cd7e0b-fcc3-4de8-b24f-7fa6330e74b3",
   "metadata": {},
   "source": [
    "## Clean Column Names\n",
    "\n",
    "Rename the column names and values so that they are easier to read. Use the table.alterTable action with the columns parameter to rename _Variable_ to Stop_Location_Boro_Name and _Value_ to Frequency. The _C0_ column contains repeats the values of the _Variable_ column and can be dropped."
   ]
  },
  {
   "cell_type": "code",
   "execution_count": null,
   "id": "29cfbd01-509b-4b5f-9ae3-ac298fed0af7",
   "metadata": {},
   "outputs": [],
   "source": [
    "tbl_long.alterTable(columns=[{\"name\":\"_Variable_\", \"rename\":\"Stop_Location_Boro_Name\"},\n",
    "                             {\"name\":\"_Value_\", \"rename\":\"Frequency\"}],\n",
    "                    drop=[\"_C0_\"])              "
   ]
  },
  {
   "cell_type": "markdown",
   "id": "f1851dea-22b8-491d-8330-9bb3cc483372",
   "metadata": {},
   "source": [
    "Use a table.fetch action to view the cleaned table."
   ]
  },
  {
   "cell_type": "code",
   "execution_count": null,
   "id": "03235c71-4a82-4cd6-9fad-26a5a35d5717",
   "metadata": {},
   "outputs": [],
   "source": [
    "tbl_long.fetch()"
   ]
  },
  {
   "cell_type": "markdown",
   "id": "cc56d769-c695-4a86-aa7f-9e293fed9780",
   "metadata": {},
   "source": [
    "## Clean Column Values\n",
    "\n",
    "Use five table.update actions with a where subparameter specifying a logical expression to remove the suffix \"_STOP_ID_ANONY_Summary_NObs_\" from the values of the Stop_Location_Boro_Name column and replace the value with the borough name in proper case."
   ]
  },
  {
   "cell_type": "code",
   "execution_count": null,
   "id": "b27aa164-25dd-480d-84a8-61e39dd1d40e",
   "metadata": {},
   "outputs": [],
   "source": [
    "tbl_long.where = \"Stop_Location_Boro_Name CONTAINS 'BROOKLYN'\"\n",
    "tbl_long.update(set=[{\"var\":\"Stop_Location_Boro_Name\", \"value\":\"'Brooklyn'\"}])\n",
    "\n",
    "tbl_long.where = \"Stop_Location_Boro_Name CONTAINS 'BRONX'\"\n",
    "tbl_long.update(set=[{\"var\":\"Stop_Location_Boro_Name\", \"value\":\"'Bronx'\"}])\n",
    "\n",
    "tbl_long.where = \"Stop_Location_Boro_Name CONTAINS 'MANHATTAN'\"\n",
    "tbl_long.update(set=[{\"var\":\"Stop_Location_Boro_Name\", \"value\":\"'Manhattan'\"}])\n",
    "\n",
    "tbl_long.where = \"Stop_Location_Boro_Name CONTAINS 'QUEENS'\"\n",
    "tbl_long.update(set=[{\"var\":\"Stop_Location_Boro_Name\", \"value\":\"'Queens'\"}])\n",
    "\n",
    "tbl_long.where = \"Stop_Location_Boro_Name CONTAINS 'STATEN'\"\n",
    "tbl_long.update(set=[{\"var\":\"Stop_Location_Boro_Name\", \"value\":\"'Staten Island'\"}])\n",
    "\n",
    "del tbl_long.where"
   ]
  },
  {
   "cell_type": "markdown",
   "id": "79cc7ef0-b7cb-4663-884a-809079e58f7a",
   "metadata": {},
   "source": [
    "# Analyze the Data\n",
    "\n",
    "## View and Sort Rows from the Long Table\n",
    "\n",
    "Use a table.fetch action to fetch 20 rows resulting cleaned sqfLong table, sorted by Frequency in descending order and Stop_Location_Boro_Name in ascending order. The table shows the top 20 combinations of month, day, and borough with the most number of police stops."
   ]
  },
  {
   "cell_type": "code",
   "execution_count": null,
   "id": "27dd18df-2fb5-4dba-a17f-cdeb6276a455",
   "metadata": {},
   "outputs": [],
   "source": [
    "tbl_long.fetch(sortBy=[{\"name\":\"Frequency\", \"order\":\"DESCENDING\"},\n",
    "                       {\"name\":\"Stop_Location_Boro_Name\", \"order\":\"ASCENDING\"}])"
   ]
  }
 ],
 "metadata": {
  "kernelspec": {
   "display_name": "Python 3 (ipykernel)",
   "language": "python",
   "name": "python3"
  },
  "language_info": {
   "codemirror_mode": {
    "name": "ipython",
    "version": 3
   },
   "file_extension": ".py",
   "mimetype": "text/x-python",
   "name": "python",
   "nbconvert_exporter": "python",
   "pygments_lexer": "ipython3",
   "version": "3.9.7"
  }
 },
 "nbformat": 4,
 "nbformat_minor": 5
}
