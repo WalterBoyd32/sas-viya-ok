{
 "cells": [
  {
   "cell_type": "markdown",
   "id": "430927f7-434d-4bc7-814b-bad72ec130a8",
   "metadata": {},
   "source": [
    "# Overview\n",
    "\n",
    "This example demonstrates how to create several types of data visualizations using Python libraries based on data that has been preprocessed using CAS actions. The data used for this example is 28,347 crime incidents in 2021 provided by the City of Washington, DC.\n",
    "\n",
    "The data can be obtained from https://support.sas.com/documentation/onlinedoc/viya/exampledatasets/Crime_Incidents_in_2021.csv and is originally from https://opendata.dc.gov/datasets/DCGIS::crime-incidents-in-2021/about."
   ]
  },
  {
   "cell_type": "markdown",
   "id": "c03cb6e0-5e90-4115-b657-ff701c8bab1d",
   "metadata": {
    "tags": []
   },
   "source": [
    "# Load the SWAT Library and Connect to the CAS Server\n",
    "\n",
    "Load the SWAT library and then create a connection to the CAS server using the CAS function and assign the CAS connection object to the variable s. The first argument specifies the host name, and the second argument specifies the port."
   ]
  },
  {
   "cell_type": "code",
   "execution_count": null,
   "id": "fd705971-554d-4f1e-8f78-cc4955f9e1b2",
   "metadata": {},
   "outputs": [],
   "source": [
    "import swat\n",
    "# change the host and port to match your site\n",
    "s = swat.CAS(\"cloud.example.com\", 10065)"
   ]
  },
  {
   "cell_type": "markdown",
   "id": "d6118f14-e0cc-4281-8496-19acab64fb83",
   "metadata": {},
   "source": [
    "# Load the Data\n",
    "\n",
    "There are two methods that can be used to load a data file. The first method is to load the data from a caslib (server-side load). The second method is to load the data from a location that is accessible to the CAS server but not associated with a caslib (client-side load)."
   ]
  },
  {
   "cell_type": "markdown",
   "id": "c195690f-d9e7-413c-a334-d1dd2d668047",
   "metadata": {},
   "source": [
    "## Load the Data from a Caslib\n",
    "\n",
    "The default method of loading data is to load the data from the data source portion of a caslib, which is known as a server-side load. This requires the data file to be saved in the active caslib (Casuser). Once the file has been saved to the caslib, use the table.loadTable action to load the Crime_Incidents_in_2021.csv file from the data source portion of the caslib into memory as a CAS table named crimes."
   ]
  },
  {
   "cell_type": "code",
   "execution_count": null,
   "id": "ad830447-4fa8-4db1-a70b-29616b2eede2",
   "metadata": {},
   "outputs": [],
   "source": [
    "s.table.loadTable(path=\"Crime_Incidents_in_2021.csv\",\n",
    "                  caslib=\"casuser\",\n",
    "                  casOut={\"name\":\"crimes\", \n",
    "                          \"replace\":True},\n",
    "                  importOptions={\"fileType\":\"CSV\",\n",
    "                                 \"encoding\":\"latin1\",\n",
    "                                 \"guessrows\":30000,\n",
    "                                 \"vars\":{\"ward\":{\"type\":\"varchar\"}}})"
   ]
  },
  {
   "cell_type": "markdown",
   "id": "cb1c5312-57bf-41b8-880f-26167d50d1fc",
   "metadata": {},
   "source": [
    "## Load a Client-Side Data File into CAS\n",
    "\n",
    "Another method of loading data into CAS memory is to load the data from an external source that is accessible to the CAS server. This example uses the SWAT upload_file method to perform a client-side load."
   ]
  },
  {
   "cell_type": "code",
   "execution_count": null,
   "id": "0cd69644-e5bd-4632-bf6b-e00f0d6dcf7a",
   "metadata": {},
   "outputs": [],
   "source": [
    "s.upload_file(\"https://support.sas.com/documentation/onlinedoc/viya/exampledatasets/Crime_Incidents_in_2021.csv\",  \n",
    "                    casOut={'name':'crimes',\n",
    "                            'caslib':'casuser',\n",
    "                            'replace':True},\n",
    "                    importOptions={\"fileType\":\"csv\",\n",
    "                                   \"encoding\":\"latin1\",\n",
    "                                   \"guessRows\":\"10000\",\n",
    "                                   \"vars\":{\"ward\":{\"type\":\"varchar\"}}})"
   ]
  },
  {
   "cell_type": "markdown",
   "id": "bc11a347-7ffd-4ed3-a792-c772ba4b764a",
   "metadata": {},
   "source": [
    "# Explore the Data"
   ]
  },
  {
   "cell_type": "markdown",
   "id": "e31f2d41-9d1b-4a6e-91ab-850cf5ef125d",
   "metadata": {},
   "source": [
    "## Create a Reference to an In-Memory Table\n",
    "\n",
    "Use the CASTable function to reference the crimes table and save the result in a object named tbl. Therefore, any action or method that is run on the CASTable object tbl will include the parameters in tbl."
   ]
  },
  {
   "cell_type": "code",
   "execution_count": null,
   "id": "1dd2745c-0777-487e-9d5a-c54b72e2172f",
   "metadata": {},
   "outputs": [],
   "source": [
    "tbl = s.CASTable(name='crimes', caslib='casuser')"
   ]
  },
  {
   "cell_type": "markdown",
   "id": "8ed97d96-6781-40ce-b315-aefadc0c7459",
   "metadata": {},
   "source": [
    "## Examine the Rows\n",
    "\n",
    "Use a table.fetch action to retrieve the first five rows from the crimes table."
   ]
  },
  {
   "cell_type": "code",
   "execution_count": null,
   "id": "2b9116ac-8b54-44b3-a3b5-bbd30d7f1c14",
   "metadata": {},
   "outputs": [],
   "source": [
    "tbl.fetch(to=5)"
   ]
  },
  {
   "cell_type": "markdown",
   "id": "382bc165-cce7-4bd1-9890-19f7c305d58b",
   "metadata": {},
   "source": [
    "## Examine the Columns\n",
    "\n",
    "Use the table.columnInfo action to obtain metadata about the table. The result includes the names of columns, and information about each column, including its label (if applicable), type, length, and format. "
   ]
  },
  {
   "cell_type": "code",
   "execution_count": null,
   "id": "6800d71f-651b-4474-bb5e-1cdbdebba2e9",
   "metadata": {},
   "outputs": [],
   "source": [
    "tbl.columnInfo()"
   ]
  },
  {
   "cell_type": "markdown",
   "id": "529985d4-2932-4041-a348-67e08cc49b84",
   "metadata": {},
   "source": [
    "## Examine Unique and Missing Values\n",
    "\n",
    "Run the simple.distinct action to identify the number of distinct values and the number of missing values for each column."
   ]
  },
  {
   "cell_type": "code",
   "execution_count": null,
   "id": "8c04af0d-3fdc-4e58-b00b-5a768291c6dc",
   "metadata": {},
   "outputs": [],
   "source": [
    "tbl.distinct()"
   ]
  },
  {
   "cell_type": "markdown",
   "id": "db7f2a78-2fac-4bcb-9bb9-219d4d3fc4a5",
   "metadata": {},
   "source": [
    "# Visualize the Data \n",
    "\n",
    "The SWAT package and other libraries in Python can be used to visualize data that has been preprocessed using CAS actions. This example demonstrates how to create several common types of data visualizations, including a bar chart, histogram, box plot, and line plot."
   ]
  },
  {
   "cell_type": "markdown",
   "id": "2efe2791-8ba7-42c5-be0e-211129a93cec",
   "metadata": {},
   "source": [
    "## Import Libraries\n",
    "\n",
    "Import the pandas, matplotlib, and seaborn libraries."
   ]
  },
  {
   "cell_type": "code",
   "execution_count": null,
   "id": "03befcff-efab-4935-a17d-b4dae2d73ffe",
   "metadata": {},
   "outputs": [],
   "source": [
    "import pandas as pd\n",
    "import matplotlib.pyplot as plt\n",
    "import seaborn as sns"
   ]
  },
  {
   "cell_type": "markdown",
   "id": "22879359-7e4b-4426-932c-f5b6adb9abe7",
   "metadata": {},
   "source": [
    "## Create a Bar Chart \n",
    "\n",
    "Create a bar chart that shows the number of crime incidents by the shift variable."
   ]
  },
  {
   "cell_type": "markdown",
   "id": "dc461eca-a5f7-4a40-bd66-2e9ce6af929f",
   "metadata": {},
   "source": [
    "### Aggregate the Data \n",
    "\n",
    "First, use the simple.freq action to count the number of rows by shift and save the result to an object named tbl_shift. The resulting tbl_shift object is a dictionary containing the key Frequency, which is associated with the output frequency table stored in a SASDataFrame."
   ]
  },
  {
   "cell_type": "code",
   "execution_count": null,
   "id": "fb58d351-f1b5-450c-b10e-69432ff5237e",
   "metadata": {},
   "outputs": [],
   "source": [
    "tbl_shift = s.simple.freq(tbl,\n",
    "                          inputs={\"SHIFT\"})\n",
    "tbl_shift"
   ]
  },
  {
   "cell_type": "markdown",
   "id": "33245ef3-b801-4cfd-9bfa-45ffc36ac8b7",
   "metadata": {},
   "source": [
    "### Save the Data Frame"
   ]
  },
  {
   "cell_type": "markdown",
   "id": "ddfebe0c-a695-49bd-a9c3-ad41a83c3efe",
   "metadata": {},
   "source": [
    "Use the Frequency key in the tbl_shift dictionary to select the output frequency table and assign it to an object named df_shift. The object df_shift now contains a SASDataFrame, which can be used like a pandas DataFrame."
   ]
  },
  {
   "cell_type": "code",
   "execution_count": null,
   "id": "c5f44ca6-2305-4592-8966-a872ceab54ec",
   "metadata": {},
   "outputs": [],
   "source": [
    "df_shift = tbl_shift[\"Frequency\"]\n",
    "df_shift"
   ]
  },
  {
   "cell_type": "markdown",
   "id": "378b9e49-dab9-4f46-97b3-a02d5cf3fce1",
   "metadata": {},
   "source": [
    "Sort the values of df_shift in descending order by the Frequency column."
   ]
  },
  {
   "cell_type": "markdown",
   "id": "cb8fbd44-2f22-4436-92f4-9a64741b1893",
   "metadata": {},
   "source": [
    "### Plot the Data\n",
    "\n",
    "Sort the values of df_shift in descending order by the Frequency column. Use the pandas plot.bar method to create a bar chart with FmtVar (shift) on the X-axis and Frequency on the Y-axis. Specify axis labels, title, and subtitle."
   ]
  },
  {
   "cell_type": "code",
   "execution_count": null,
   "id": "97a0e33e-16f8-4805-a4a9-e37f13bb85ee",
   "metadata": {},
   "outputs": [],
   "source": [
    "df_shift_sorted = df_shift.sort_values('Frequency', ascending=False)\n",
    "\n",
    "df_ShiftVFreq = df_shift_sorted.plot.bar(x=\"FmtVar\", y=\"Frequency\")\n",
    "df_ShiftVFreq.set_xlabel(\"Shift\")\n",
    "df_ShiftVFreq.set_ylabel(\"Number of Crime Incidents\")\n",
    "plt.suptitle(\"Number of Crime Incidents by Shift\")\n",
    "plt.title(\"Washington, DC 2021\")"
   ]
  },
  {
   "cell_type": "markdown",
   "id": "69025e03-3301-4088-bb94-a4057771c4d9",
   "metadata": {},
   "source": [
    "## Create a Histogram\n",
    "\n",
    "Create a histogram to show the distribution of crime incidents by the count of voting precincts."
   ]
  },
  {
   "cell_type": "markdown",
   "id": "25bcde20-12c6-4261-81a2-e3e25315a514",
   "metadata": {},
   "source": [
    "### Aggregate the Data\n",
    "\n",
    "Run the simple.freq action to count the number of rows by the voting precinct and save the result to an object named tbl_vp. The resulting tbl_vp object is a dictionary containing the key Frequency, which is associated with the output frequency table stored in a SASDataFrame."
   ]
  },
  {
   "cell_type": "code",
   "execution_count": null,
   "id": "84e71a96-2e7f-4e33-8db6-e234847ae267",
   "metadata": {},
   "outputs": [],
   "source": [
    "tbl_vp = s.simple.freq(tbl,\n",
    "                       inputs={\"VOTING_PRECINCT\"})\n",
    "tbl_vp"
   ]
  },
  {
   "cell_type": "markdown",
   "id": "fa6cc585-6457-4040-862c-234b35f139a4",
   "metadata": {},
   "source": [
    "### Save the Data Frame"
   ]
  },
  {
   "cell_type": "markdown",
   "id": "8ab359ed-7982-40c3-b2ef-5c4187f3d20e",
   "metadata": {},
   "source": [
    "Use the Frequency key in the tbl_vp dictionary to select the output frequency table and assign it to an object named df_vp. The object df_vp now contains a SAS DataFrame which can be used like a pandas DataFrame."
   ]
  },
  {
   "cell_type": "code",
   "execution_count": null,
   "id": "5e2e3acd-2ce3-4d83-9332-2f74286d4fe2",
   "metadata": {},
   "outputs": [],
   "source": [
    "df_vp = tbl_vp[\"Frequency\"]\n",
    "df_vp"
   ]
  },
  {
   "cell_type": "markdown",
   "id": "96a084ba-ff23-47a7-96dd-6c68c98da5ee",
   "metadata": {},
   "source": [
    "### Plot the Data"
   ]
  },
  {
   "cell_type": "markdown",
   "id": "0c1354e3-2245-4b90-83c0-b3887c00c96c",
   "metadata": {},
   "source": [
    "Use the plt.subplots function and the hist method to plot the Frequency column of df_vp. Specify axis labels, title, and subtitle. "
   ]
  },
  {
   "cell_type": "code",
   "execution_count": null,
   "id": "0d6bf25e-61cc-43a5-a8d1-dc715c5a49f0",
   "metadata": {},
   "outputs": [],
   "source": [
    "fig, ax = plt.subplots()\n",
    "ax.hist(df_vp[\"Frequency\"], bins=60)\n",
    "ax.set_xlabel(\"Crime Incidents\")\n",
    "ax.set_ylabel(\"Count of Voting Precincts\")\n",
    "plt.suptitle(\"Distribution of Crime Incidents\")\n",
    "plt.title(\"Washington, DC 2021\")\n",
    "plt.show()"
   ]
  },
  {
   "cell_type": "markdown",
   "id": "f44936d6-ceeb-4564-a560-551656e6216b",
   "metadata": {},
   "source": [
    "## Create a Box Plot\n",
    "\n",
    "Create a box plot that shows summary statistics for the number of crime incidents among neighborhood clusters by ward."
   ]
  },
  {
   "cell_type": "markdown",
   "id": "fdf18895-31ee-46e6-b3eb-c76ab50ece15",
   "metadata": {},
   "source": [
    "### Aggregate the Data \n",
    "\n",
    "Load the aggregation action set. Specify neighborhood cluster and ward as the columns to use in the groupBy parameter for tbl. Use the aggregate action to count the number of crime incidents by neighborhood cluster and ward and save the resulting output table as CrimesByNCWard. The result shows a DataFrame with information about the output CAS table CrimesByNCWard."
   ]
  },
  {
   "cell_type": "code",
   "execution_count": null,
   "id": "25986f59-0474-47f1-8f36-6ef5f06c6f0d",
   "metadata": {},
   "outputs": [],
   "source": [
    "s.builtins.loadActionSet(\"aggregation\")\n",
    "\n",
    "tbl.groupBy = [{\"name\":\"NEIGHBORHOOD_CLUSTER\"}, \n",
    "               {\"name\":\"WARD\"}]\n",
    "\n",
    "tbl.aggregate(varSpecs=[{\"name\":\"CCN\",\n",
    "                         \"subset\":{\"N\"}}],\n",
    "              casOut={\"name\":\"CrimesByNCWard\",\n",
    "                      \"caslib\":\"casuser\",\n",
    "                      \"replace\":True})\n",
    "\n",
    "del tbl.groupBy"
   ]
  },
  {
   "cell_type": "markdown",
   "id": "afbd4951-8966-4833-ab5b-31902484987a",
   "metadata": {},
   "source": [
    "### View the Aggregated Data\n",
    "\n",
    "Run the table.fetch action to return all 63 rows of the CrimesByNCWard table and save the result to tbl_nc_ward. The resulting tbl_nc_ward object is a dictionary containing the key Fetch which is associated with the output aggregated data stored in a SASDataFrame."
   ]
  },
  {
   "cell_type": "code",
   "execution_count": null,
   "id": "102f7264-bdb8-48ce-bfb2-48449ec7f165",
   "metadata": {},
   "outputs": [],
   "source": [
    "tbl_nc_ward = s.table.fetch(table={\"name\":\"CrimesByNCWard\"},\n",
    "                            to=63)\n",
    "tbl_nc_ward"
   ]
  },
  {
   "cell_type": "markdown",
   "id": "bfbf40ca-4705-4fc2-8b50-54f5cecdbc92",
   "metadata": {},
   "source": [
    "### Save the Data Frame"
   ]
  },
  {
   "cell_type": "markdown",
   "id": "135f0b57-4b45-4d0b-92a0-32b31a39eb28",
   "metadata": {},
   "source": [
    "Use the Fetch key in the tbl_nc_ward dictionary to select the output frequency table and assign it to an object named df_nc_ward. The object df_nc_ward now contains a SASDataFrame, which can be used like a pandas DataFrame."
   ]
  },
  {
   "cell_type": "code",
   "execution_count": null,
   "id": "8a59ce64-0457-4606-9d19-c928e1a0b464",
   "metadata": {},
   "outputs": [],
   "source": [
    "df_nc_ward = tbl_nc_ward[\"Fetch\"]"
   ]
  },
  {
   "cell_type": "markdown",
   "id": "99f45d42-e428-4724-93d2-cb4586ae2885",
   "metadata": {},
   "source": [
    "### Plot the Data\n",
    "\n",
    "Use the sns.boxplot function from the Seaborn library to create vertical box plots to show the summary statistics for number of crime incidents by ward among neighborhood clusters. Specify WARD_f as the X-axis variable and _CCN_Summary_NObs_ as the Y-axis variable. Specify the axis labels, title, and subtitle."
   ]
  },
  {
   "cell_type": "code",
   "execution_count": null,
   "id": "1a919157-133d-4263-814d-3cc239802c38",
   "metadata": {},
   "outputs": [],
   "source": [
    "g = sns.boxplot(x=df_nc_ward[\"WARD_f\"],\n",
    "                y=df_nc_ward[\"_CCN_Summary_NObs_\"])\n",
    "g.set(xlabel=\"Ward\",\n",
    "      ylabel=\"Number of Crime Incidents\")\n",
    "plt.suptitle(\"Box Plot of Crime Incidents by Ward\")\n",
    "plt.title(\"Neighborhood Clusters, Washington DC\")"
   ]
  },
  {
   "cell_type": "markdown",
   "id": "94893b25-8ff4-4fe6-805f-744d02f04b53",
   "metadata": {},
   "source": [
    "## Create a Line Plot\n",
    "\n",
    "Create a line plot to show the number of crime incidents by month in 2021."
   ]
  },
  {
   "cell_type": "markdown",
   "id": "3227d280-c4ab-492d-ac11-20b723a6d48b",
   "metadata": {},
   "source": [
    "### Create a Date Variable"
   ]
  },
  {
   "cell_type": "markdown",
   "id": "03bec28a-c251-44c0-93b4-49c281e5e159",
   "metadata": {},
   "source": [
    "In order to aggregate data by a date variable, it is necessary to convert the date column from character to numeric data type with a date format. \n",
    "First, use the SWAT eval function to create a new column named date that extracts the date value in front of the delimiter \"+\" with the informat 'ANYDTDTM.'.\n",
    "Use the copyTable action to create a new table named crimes_date from the crimes table.\n",
    "Use the CASTable function to create a reference to the crimes_date table and save the result to an object name tbl_date. \n",
    "Use the alterTable action to assign the display format 'date9.' to the date column in the crimes_date table. "
   ]
  },
  {
   "cell_type": "code",
   "execution_count": null,
   "id": "d465c37e-2af8-4d94-8e60-69d776300816",
   "metadata": {},
   "outputs": [],
   "source": [
    "tbl.eval(\"date = datepart(inputn(scan(REPORT_DAT,1,'+'), 'ANYDTDTM.'))\")"
   ]
  },
  {
   "cell_type": "code",
   "execution_count": null,
   "id": "19873376-0015-4218-9ad0-75883d2932d8",
   "metadata": {},
   "outputs": [],
   "source": [
    "tbl.copyTable(casout={'name':'crimes_date','caslib':'casuser', 'replace':True})"
   ]
  },
  {
   "cell_type": "code",
   "execution_count": null,
   "id": "77e495c1-5179-403f-ae51-779341d19147",
   "metadata": {},
   "outputs": [],
   "source": [
    "tbl_date = s.CASTable(name='crimes_date', caslib='casuser')"
   ]
  },
  {
   "cell_type": "code",
   "execution_count": null,
   "id": "1f454492-7fa8-4dc5-b566-62dd1a8d598c",
   "metadata": {},
   "outputs": [],
   "source": [
    "tbl_date.alterTable(columns = [{'name':'date', 'format':'date9.'}])"
   ]
  },
  {
   "cell_type": "code",
   "execution_count": null,
   "id": "ef097102-634a-4ee5-b5bc-f7dd166b1ee7",
   "metadata": {},
   "outputs": [],
   "source": [
    "tbl_date.columnInfo()"
   ]
  },
  {
   "cell_type": "markdown",
   "id": "d5ae314d-7050-4771-9723-82e9bc376923",
   "metadata": {},
   "source": [
    "### Aggregate the Data\n",
    "\n",
    "Run the aggregation.aggregate action to count the number of rows by month and save the resulting output as a table named CrimesByMonth."
   ]
  },
  {
   "cell_type": "code",
   "execution_count": null,
   "id": "d4192822-56be-4882-b5c5-00682ff7685e",
   "metadata": {},
   "outputs": [],
   "source": [
    "s.aggregation.aggregate(table={\"name\":\"crimes_date\",                                                                  \n",
    "                               \"caslib\":\"casuser\",\n",
    "                               \"groupBy\":{\"date\"}},                                              \n",
    "                        varSpecs=[{\"name\":\"CCN\",                                                                    \n",
    "                                   \"subset\":{\"N\"}}],\n",
    "                        ID=\"date\",                                                            \n",
    "                        interval=\"MONTH\",                                                                          \n",
    "                        casOut={\"name\":\"CrimesByMonth\",                                                     \n",
    "                                \"caslib\":\"casuser\",\n",
    "                                \"replace\":True})"
   ]
  },
  {
   "cell_type": "markdown",
   "id": "fa10a287-d1fb-4ea8-8958-e555bcfa7e38",
   "metadata": {},
   "source": [
    "### View the Rows\n",
    "\n",
    "Run the table.fetch action to return only the first 12 rows from the CrimesByMonth table and assign the result to the object tbl_month. This will exclude the one row containing data from January 2022."
   ]
  },
  {
   "cell_type": "code",
   "execution_count": null,
   "id": "569a8c43-4089-4d36-b9c6-2ef9eeb4aebb",
   "metadata": {},
   "outputs": [],
   "source": [
    "tbl_month = s.table.fetch(table={\"name\":\"CrimesByMonth\"},\n",
    "                          to=12)"
   ]
  },
  {
   "cell_type": "markdown",
   "id": "4cdb3c23-65b1-4b3c-82cc-e234edb311a1",
   "metadata": {},
   "source": [
    "### Save the Data Frame\n",
    "\n",
    "Use the Fetch key in the tbl_month dictionary to select the output frequency table and assign it to an object named df_month. The object df_month now contains a SASDataFrame, which can be used like a pandas DataFrame."
   ]
  },
  {
   "cell_type": "code",
   "execution_count": null,
   "id": "1dfb4866-58d4-4999-b0d7-775d4059b2f7",
   "metadata": {},
   "outputs": [],
   "source": [
    "df_month = tbl_month[\"Fetch\"]"
   ]
  },
  {
   "cell_type": "markdown",
   "id": "34c38cbe-962f-4b5f-bf69-fc590aef45b0",
   "metadata": {},
   "source": [
    "### Plot the Data\n",
    "\n",
    "Convert the date column to datetime and then use the dt.to_period method to extract only the month and year values from the date column and store the values in a column named month_year."
   ]
  },
  {
   "cell_type": "code",
   "execution_count": null,
   "id": "0c10879d-40c1-4c48-acf0-c14672f913eb",
   "metadata": {},
   "outputs": [],
   "source": [
    "df_month['date'] = pd.to_datetime(df_month['date'])\n",
    "df_month['month_year'] = df_month['date'].dt.to_period('M')"
   ]
  },
  {
   "cell_type": "markdown",
   "id": "b5a8678f-1338-411e-b658-9f8578ec930e",
   "metadata": {},
   "source": [
    "Use the plot.line pandas method to create a line plot with month_year as the X-axis variable and _CCN_Summary_NObs_ as the Y-axis variable. Specify axis labels, title, and subtitle. "
   ]
  },
  {
   "cell_type": "code",
   "execution_count": null,
   "id": "00316bd9-1103-4d64-b911-6515d9e9526d",
   "metadata": {},
   "outputs": [],
   "source": [
    "CrimesVMonth = df_month.plot.line(x=\"month_year\", y=\"_CCN_Summary_NObs_\", rot=45)\n",
    "CrimesVMonth.set_xlabel(\"Month\")\n",
    "CrimesVMonth.set_ylabel(\"Number of Crime Incidents\")\n",
    "plt.suptitle(\"Number of Crime Incidents by Month\")\n",
    "plt.title(\"Washington, DC 2021\")"
   ]
  }
 ],
 "metadata": {
  "kernelspec": {
   "display_name": "Python 3 (ipykernel)",
   "language": "python",
   "name": "python3"
  },
  "language_info": {
   "codemirror_mode": {
    "name": "ipython",
    "version": 3
   },
   "file_extension": ".py",
   "mimetype": "text/x-python",
   "name": "python",
   "nbconvert_exporter": "python",
   "pygments_lexer": "ipython3",
   "version": "3.9.7"
  }
 },
 "nbformat": 4,
 "nbformat_minor": 5
}
