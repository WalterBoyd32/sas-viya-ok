{
 "cells": [
  {
   "cell_type": "markdown",
   "id": "b3f30b8c-a3db-4320-8762-936fe39a3b36",
   "metadata": {},
   "source": [
    "# Overview\n",
    "\n",
    "The following example demonstrates a data science workflow from start to finish using real-world claims data collected by the Transportation Security Administration.\n",
    "\n",
    "The data file used for this example can be obtained from https://support.sas.com/documentation/onlinedoc/viya/exampledatasets/TSAClaims2002_2017.csv. The data are originally from https://www.dhs.gov/tsa-claims-data.\n"
   ]
  },
  {
   "cell_type": "markdown",
   "id": "e508ea9f-7444-4167-856f-57c9496eb328",
   "metadata": {
    "tags": []
   },
   "source": [
    "# Load the SWAT Library and Connect to the CAS Server\n",
    "\n",
    "Here is an example of the syntax that is used to connect to a CAS server. The LIBNAME statement is then used to assign a libref named Casuser to the Casuser caslib because a caslib cannot be used in place of a libref."
   ]
  },
  {
   "cell_type": "code",
   "execution_count": null,
   "id": "109cac27-ae31-49e1-b8ab-e923a1bf70f1",
   "metadata": {},
   "outputs": [],
   "source": [
    "import swat\n",
    "# change the host and port to match your site\n",
    "s = swat.CAS(\"cloud.example.com\", 10065)"
   ]
  },
  {
   "cell_type": "markdown",
   "id": "294bab31-79a1-4c9e-ba7f-d57ab2185929",
   "metadata": {
    "tags": []
   },
   "source": [
    "# Load the Data\n",
    "\n",
    "There are two methods that can be used to load a data file. The first method is to load the data from a caslib (server-side load). The second method is to load the data from a location that is accessible to the CAS server but not associated with a caslib (client-side load).\n",
    "\n",
    "## Load the Data from a Caslib\n",
    "\n",
    "The default method of loading data is to load the data from the data source portion of a caslib, which is known as a server-side load. This requires the data file to be saved in the active caslib (Casuser). Once the file has been saved to the caslib, use the loadTable action to load the TSAClaims2002_2017.csv file into the Casuser caslib as an in-memory table.\n",
    "\n",
    "In the casOut parameter, specify that the data is saved as a table named tsaclaims.\n",
    "In the importOptions parameter, specify CSV for the fileType.\n",
    "For encoding, specify latin1.\n",
    "For guessRows, specify a number that includes all rows in the data set, such as 300,000, so that all rows will be scanned to determine the appropriate data type for each column."
   ]
  },
  {
   "cell_type": "code",
   "execution_count": null,
   "id": "8e5af7d1-1865-4c0c-9669-f7380b65940e",
   "metadata": {
    "tags": []
   },
   "outputs": [],
   "source": [
    "s.table.loadTable(path=\"TSAClaims2002_2017.csv\",\n",
    "                  caslib=\"casuser\",\n",
    "                  casOut={\"name\":\"tsaclaims\", \n",
    "                          \"replace\":True},\n",
    "                  importOptions={\"fileType\":\"CSV\",\n",
    "                                 \"encoding\":\"latin1\",\n",
    "                                 \"guessrows\":30000})"
   ]
  },
  {
   "cell_type": "markdown",
   "id": "bd83dfe7-97c2-4f09-b6f3-24e01911d2f4",
   "metadata": {},
   "source": [
    "## Load a Client-Side Data File from CAS\n",
    "\n",
    "Another method of loading data into CAS memory is to load the data from an external source that is accessible to the CAS server. This example uses the HTTP procedure with the PROC CAS UPLOAD statement to perform a client-side load."
   ]
  },
  {
   "cell_type": "code",
   "execution_count": null,
   "id": "1f2f0faf-292f-45c8-a108-bdb8190a63ec",
   "metadata": {},
   "outputs": [],
   "source": [
    "result = s.upload_file(\"https://support.sas.com/documentation/onlinedoc/viya/exampledatasets/TSAClaims2002_2017.csv\",   \n",
    "                       casOut={'name':'tsaclaims',\n",
    "                               'caslib':'casuser',\n",
    "                               'replace':True},\n",
    "                       importOptions={'fileType':'csv',\n",
    "                                      'encoding':'latin1',\n",
    "                                      'guessRows':300000})"
   ]
  },
  {
   "cell_type": "markdown",
   "id": "92139ad0-50df-4f5e-8b11-704d0936512f",
   "metadata": {
    "tags": []
   },
   "source": [
    "# Explore the Data\n",
    "\n",
    "## Examine the Columns\n",
    "\n",
    "To get information about a table’s columns, use the columnInfo action on the tsaclaims table to obtain metadata about the table. The result includes the names of columns, and information about each column, including its label (if applicable), type, length, and format."
   ]
  },
  {
   "cell_type": "code",
   "execution_count": null,
   "id": "74c06e70-214a-4208-92c3-0ab519c1cf71",
   "metadata": {},
   "outputs": [],
   "source": [
    "s.table.columnInfo(table={\"caslib\":\"casuser\",\n",
    "                          \"name\":\"tsaclaims\"})"
   ]
  },
  {
   "cell_type": "markdown",
   "id": "e6a5b5d1-5bb6-4f0d-b0a1-610243613fa6",
   "metadata": {},
   "source": [
    "## Examine the Rows\n",
    "\n",
    "Preview the first few rows of the table by using the table.fetch action and specifying 10 in the to parameter. The sortBy parameter specifies that the column Close_Amount is sorted in descending order. Examine the values in the rows to identify any data issues. In the resulting table, notice that the values in the two date columns (Date_Received and Incident_Date) are 5-digit numbers and are not properly formatted in an MM-DD-YYYY format. In addition, the Close_Amount variable shows values with a missing dollar sign. The columns need to be modified to apply the appropriate date and currency formats."
   ]
  },
  {
   "cell_type": "code",
   "execution_count": null,
   "id": "ddc45162-e7ec-40e9-bd31-03d3c2934e03",
   "metadata": {},
   "outputs": [],
   "source": [
    "s.table.fetch(table={\"caslib\":\"casuser\",\n",
    "                      \"name\":\"tsaclaims\"},\n",
    "              to=10,\n",
    "              sortBy=[{\"name\":\"Close_Amount\", \"order\":\"DESCENDING\"}])"
   ]
  },
  {
   "cell_type": "markdown",
   "id": "9205c994-dfba-4747-8a9e-b1072b33f629",
   "metadata": {},
   "source": [
    "# Prepare the Data\n",
    "\n",
    "## Add Formats to Variables\n",
    "\n",
    "The next step is to add formats to the variables. Use the table.alterTable action to rename columns and apply formats to the date and amount columns. Assign new column labels to the column names so that the underscores are removed. Assign the format dollar19.2 to Close_Amount to display the formatted values with a dollar sign and two decimal places. Assign a format of mmddyy10. to the Date_Received and Incident_Date columns to display the values in the format of MM-DD-YYYY."
   ]
  },
  {
   "cell_type": "code",
   "execution_count": null,
   "id": "ec9557ea-ebe3-402f-ada1-a43de1b3e224",
   "metadata": {},
   "outputs": [],
   "source": [
    "s.table.alterTable(name=\"tsaclaims\",\n",
    "                   caslib=\"casuser\",\n",
    "                   columns=[\n",
    "                           {\"name\":\"Close_Amount\", \"label\":\"Close Amount\", \"format\":\"dollar19.2\"},\n",
    "                           {\"name\":\"Claim_Number\", \"label\":\"Claim Number\"},\n",
    "                           {\"name\":\"Date_Received\", \"label\":\"Date Received\", \"format\":\"mmddyy10.\"},\n",
    "                           {\"name\":\"Incident_Date\", \"label\":\"Incident Date\", \"format\":\"mmddyy10.\"},\n",
    "                           {\"name\":\"Airport_Code\", \"label\":\"Airport Code\"},\n",
    "                           {\"name\":\"Airport_Name\", \"label\":\"Airport Name\"},\n",
    "                           {\"name\":\"Claim_Type\", \"label\":\"Claim Type\"},\n",
    "                           {\"name\":\"Claim_Site\", \"label\":\"Claim Site\"},\n",
    "                           {\"name\":\"Item_Category\", \"label\":\"Item Category\"}])\n",
    "\n",
    "s.table.columnInfo(table=\"tsaclaims\")"
   ]
  },
  {
   "cell_type": "markdown",
   "id": "589f3f12-e73d-4eed-8657-9ebb6e743c56",
   "metadata": {},
   "source": [
    "The resulting table shows that the Date_Received and Incident_Date columns now specify the format of MMDDYY, and the Close_Amount column now specifies the format of DOLLAR."
   ]
  },
  {
   "cell_type": "markdown",
   "id": "9f817ea3-0433-48d4-96f7-58f5f609cc2e",
   "metadata": {},
   "source": [
    "## Count the Number of Unique and Missing Column Values\n",
    "\n",
    "Examine the number of unique and missing values for each variable to determine whether further cleaning is needed. Run the simple.distinct action to identify the number of distinct values and the number of missing values for each column."
   ]
  },
  {
   "cell_type": "code",
   "execution_count": null,
   "id": "bc34f70a-83ea-4fed-8d79-5109643963a5",
   "metadata": {},
   "outputs": [],
   "source": [
    "s.simple.distinct(table=\"tsaclaims\")"
   ]
  },
  {
   "cell_type": "markdown",
   "id": "05b6c3bd-762e-4fe7-9c3f-b57bfd68ab80",
   "metadata": {},
   "source": [
    "## Remove Duplicate Rows\n",
    "\n",
    "Full duplicate rows that have duplicate values on all variables should be removed. The deduplicate action removes rows that contain duplicated values on the variables listed in the groupBy parameter.\n",
    "\n",
    "In the groupBy parameter, it is necessary to list all variables in the table if you want to remove full duplicate rows (that is, rows that have duplicate values on all variables).\n",
    "The casOut parameter specifies that the output table containing rows with duplicates removed is named tsaclaims_nodups.\n",
    "The duplicateOut parameter specifies that the output table containing the duplicate rows that were removed is named tsa_claims_dups."
   ]
  },
  {
   "cell_type": "code",
   "execution_count": null,
   "id": "de2b1d40-6316-4b0b-bfd7-e3c50355b7fb",
   "metadata": {},
   "outputs": [],
   "source": [
    "s.builtins.loadActionSet(actionSet=\"deduplication\")\n",
    "\n",
    "s.deduplication.deduplicate(\n",
    "                            table={\"caslib\":\"casuser\",\n",
    "                                   \"name\":\"tsaclaims\",\n",
    "                                   \"groupBy\":[{\"name\":\"Claim_Number\"}, \n",
    "                                              {\"name\":\"Date_Received\"}, \n",
    "                                              {\"name\":\"Incident_Date\"}, \n",
    "                                              {\"name\":\"Airport_Code\"}, \n",
    "                                              {\"name\":\"Airport_Name\"}, \n",
    "                                              {\"name\":\"Claim_Type\"}, \n",
    "                                              {\"name\":\"Claim_Site\"}, \n",
    "                                              {\"name\":\"Item_Category\"}, \n",
    "                                              {\"name\":\"Close_Amount\"}, \n",
    "                                              {\"name\":\"Disposition\"}, \n",
    "                                              {\"name\":\"StateName\"}, \n",
    "                                              {\"name\":\"State\"}, \n",
    "                                              {\"name\":\"County\"}, \n",
    "                                              {\"name\":\"City\"}]\n",
    "                                  },\n",
    "                             casOut={\"caslib\":\"casuser\", \n",
    "                                     \"name\":\"tsaclaims_nodups\", \n",
    "                                     \"replace\":True},\n",
    "                             duplicateOut={\"caslib\":\"casuser\", \n",
    "                                           \"name\":\"tsaclaims_dups\", \n",
    "                                           \"replace\":True},\n",
    "                             noDuplicateKeys=True)"
   ]
  },
  {
   "cell_type": "markdown",
   "id": "02d524c3-7fed-4ea6-9909-899a98d1ade2",
   "metadata": {},
   "source": [
    "## Identify Data Quality Issues\n",
    "\n",
    "A frequency distribution can be used to examine the columns for data issues. The simple.freq action generates a frequency distribution showing the counts of each unique value for each of the variables listed in the inputs parameter. The columns Date_Received and Incident_Date are assigned the format year4. to display the values with a 4-digit year. Columns with options specified (such as a format) need to be enclosed in braces."
   ]
  },
  {
   "cell_type": "code",
   "execution_count": null,
   "id": "84a04eca-a9ec-4702-be4d-4d81254117a1",
   "metadata": {},
   "outputs": [],
   "source": [
    "s.simple.freq(table={\"caslib\":\"casuser\", \n",
    "                     \"name\":\"tsaclaims_nodups\"},\n",
    "              inputs=[{\"name\":\"Claim_Site\"},\n",
    "                      {\"name\":\"Disposition\"},\n",
    "                      {\"name\":\"Claim_Type\"},\n",
    "                      {\"name\":\"Date_Received\", \"format\":\"year4.\"},\n",
    "                      {\"name\":\"Incident_Date\", \"format\":\"year4.\"}])"
   ]
  },
  {
   "cell_type": "markdown",
   "id": "c161956e-44b1-4823-9d37-4e1582ea690e",
   "metadata": {},
   "source": [
    "The data contains some errors including missing values, inconsistent values and out-of-range values that can be cleaned using the table.update action."
   ]
  },
  {
   "cell_type": "markdown",
   "id": "f03eec77-e546-4144-bb87-25e3e66138d0",
   "metadata": {},
   "source": [
    "## Replace Missing and Inconsistent Values\n",
    "\n",
    "Clean the Claim_Site and Claim_Type columns using table.update. Replace the inconsistent values in the columns so that there are no missing values, misspelled values, or values with multiple claim types.\n",
    "\n",
    "The first two update actions selects rows in the Claim_Site and Claim_Type columns where the value is null or - and replaces the values with 'Unknown'.\n",
    "The third update action selects rows where the Claim_Type value is 'Passenger Property Loss/Personal Injury', or 'Passenger Property Loss/Personal Injur' and replaces the value of Claim_Type with 'Passenger Property Loss'.\n",
    "The fourth update action selects rows where the Claim_Type value is 'Property Damage/Personal Injury' and replaces the values of Claim_Type with 'Property Damage'."
   ]
  },
  {
   "cell_type": "code",
   "execution_count": null,
   "id": "671e32f7-d8f6-42ac-ad1b-90fb189f3d82",
   "metadata": {},
   "outputs": [],
   "source": [
    "s.table.update(table={\"name\":\"tsaclaims_nodups\", \n",
    "                      \"caslib\":\"casuser\", \n",
    "                      \"where\":\"Claim_Site is null or Claim_Site='-'\"},\n",
    "                 set=[{\"var\":\"Claim_Site\", \"value\":\"'Unknown'\"}])\n",
    "\n",
    "s.table.update(table={\"name\":\"tsaclaims_nodups\", \n",
    "                      \"caslib\":\"casuser\", \n",
    "                      \"where\":\"Claim_Type is null or Claim_Type='-'\"},\n",
    "                 set=[{\"var\":\"Claim_Type\", \"value\":\"'Unknown'\"}])\n",
    "               \n",
    "s.table.update(table={\"name\":\"tsaclaims_nodups\", \n",
    "                      \"caslib\":\"casuser\", \n",
    "                      \"where\":\"\"\"Claim_Type='Passenger Property Loss/Personal Injury' \n",
    "                              or Claim_Type='Passenger Property Loss/Personal Injur'\"\"\"},\n",
    "                 set=[{\"var\":\"Claim_Type\", \"value\":\"'Passenger Property Loss'\"}])\n",
    "\n",
    "s.table.update(table={\"name\":\"tsaclaims_nodups\", \n",
    "                      \"caslib\":\"casuser\", \n",
    "                      \"where\":\"Claim_Type='Property Damage/Personal Injury'\"},\n",
    "                 set=[{\"var\":\"Claim_Type\", \"value\":\"'Property Damage'\"}])"
   ]
  },
  {
   "cell_type": "markdown",
   "id": "4b2132b5-6109-48e2-bb08-17113b6004e7",
   "metadata": {},
   "source": [
    "Clean the Disposition column with three table.update actions.\n",
    "\n",
    "The first update action selects rows where the value of Disposition is null or and replaces the values of Disposition with 'Unknown'.\n",
    "The second update action selects rows where the value of Disposition is \"Closed: Canceled\" and replaces the values of Disposition with \"Closed:Canceled\".\n",
    "The third update action selects rows where the value of Disposition is \"losed:Contractor Claim\" and replaces the values of Disposition with \"Closed:Contractor Claim\"."
   ]
  },
  {
   "cell_type": "code",
   "execution_count": null,
   "id": "65f9c113-e6d7-47b6-8a56-348996206515",
   "metadata": {},
   "outputs": [],
   "source": [
    "s.table.update(table={\"name\":\"tsaclaims_nodups\", \n",
    "                      \"caslib\":\"casuser\", \n",
    "                      \"where\":\"Disposition is null or Disposition='-'\"},\n",
    "                 set=[{\"var\":\"Disposition\", \"value\":\"'Unknown'\"}])\n",
    "\n",
    "s.table.update(table={\"name\":\"tsaclaims_nodups\", \n",
    "                      \"caslib\":\"casuser\", \n",
    "                      \"where\":\"Disposition='Closed: Canceled'\"},\n",
    "                 set=[{\"var\":\"Disposition\", \"value\":\"'Closed:Canceled'\"}])\n",
    "\n",
    "s.table.update(table={\"name\":\"tsaclaims_nodups\", \n",
    "                      \"caslib\":\"casuser\", \n",
    "                      \"where\":\"Disposition='losed: Contractor Claim'\"},\n",
    "                 set=[{\"var\":\"Disposition\", \"value\":\"'Closed:Contractor Claim'\"}])"
   ]
  },
  {
   "cell_type": "markdown",
   "id": "56871251-2566-49a0-ba50-6ea5b9d7a3c8",
   "metadata": {},
   "source": [
    "The values of the StateName column should be converted from uppercase to propercase. Use the table.update action with the propcase function to convert all values of a column to proper case."
   ]
  },
  {
   "cell_type": "code",
   "execution_count": null,
   "id": "7a987edd-4176-4a02-9831-247fe12759f0",
   "metadata": {},
   "outputs": [],
   "source": [
    "s.table.update(table={\"caslib\":\"casuser\", \n",
    "                      \"name\":\"tsaclaims_nodups\"},\n",
    "                 set=[{\"var\":\"StateName\", \"value\":\"propcase(StateName)\"}])"
   ]
  },
  {
   "cell_type": "markdown",
   "id": "c5609260-a18e-4504-a961-2347bc4aaf2d",
   "metadata": {},
   "source": [
    "To create tables to examine the cleaned columns, use a simple.freq action specifying the columns as inputs."
   ]
  },
  {
   "cell_type": "code",
   "execution_count": null,
   "id": "ec41c9cf-d231-4ddc-94cc-59f8b9e4e8c6",
   "metadata": {},
   "outputs": [],
   "source": [
    "s.simple.freq(table={\"caslib\":\"casuser\", \n",
    "                     \"name\":\"tsaclaims_nodups\"},\n",
    "              inputs=[{\"name\":\"Claim_Site\"},\n",
    "                      {\"name\":\"Disposition\"},\n",
    "                      {\"name\":\"Claim_Type\"},\n",
    "                      {\"name\":\"Date_Received\", \"format\":\"year4.\"},\n",
    "                      {\"name\":\"Incident_Date\", \"format\":\"year4.\"}])\n",
    "\n",
    "s.simple.freq(table={\"caslib\":\"casuser\", \n",
    "                     \"name\":\"tsaclaims_nodups\"},\n",
    "              inputs=[{\"name\":\"State\"},\n",
    "                      {\"name\":\"StateName\"}])"
   ]
  },
  {
   "cell_type": "markdown",
   "id": "49c8d2fc-e483-47da-92ec-8d75bd48de82",
   "metadata": {},
   "source": [
    "## Add a New Column to Identify Rows with Errors\n",
    "\n",
    "Create a new column to identify rows that have date values that are out of range (earlier than 2002 or later than 2017). These rows will require further investigation. In the computedVars parameter, specify the name of the new column as Date_Issues. In the computedVarsProgram parameter, write a query to assign a value of ‘Needs Review’ to the Date_Issues variable if the year of the Incident_Date or Date_Received variable falls outside of the range between 2002 and 2017."
   ]
  },
  {
   "cell_type": "code",
   "execution_count": null,
   "id": "b56a1c7a-821f-4300-b5e9-6be6ccd3c47e",
   "metadata": {},
   "outputs": [],
   "source": [
    "s.table.copyTable(casout={\"caslib\":\"casuser\", \n",
    "                          \"name\":\"tsaclaims_cleaned\", \n",
    "                          \"replace\":True},\n",
    "                   table={\"caslib\":\"casuser\", \n",
    "                          \"name\":\"tsaclaims_nodups\",\n",
    "                          \"computedVars\":[{\"name\":\"Date_Issues\", \n",
    "                                           \"label\":\"Date Issues\"}],\n",
    "                          \"computedVarsProgram\":\"\"\"if year(Incident_Date) < 2002 or \n",
    "                                                   year(Incident_Date) > 2017 or \n",
    "                                                   year(Date_Received) < 2002 or \n",
    "                                                   year(Date_Received) > 2017 \n",
    "                                                   then Date_Issues='Needs Review'\"\"\"})\n",
    "\n",
    "s.simple.freq(table={\"caslib\":\"casuser\", \n",
    "                     \"name\":\"tsaclaims_cleaned\"},\n",
    "              inputs={\"Date_Issues\"})"
   ]
  },
  {
   "cell_type": "markdown",
   "id": "6e62056f-a6f7-41d0-9fcb-e1f6c6d985d9",
   "metadata": {},
   "source": [
    "## Drop Columns\n",
    "\n",
    "Columns that are no longer needed can be dropped using the table.alterTable action. Here the columns County and City are specified in the drop parameter."
   ]
  },
  {
   "cell_type": "code",
   "execution_count": null,
   "id": "36d9afe2-7a48-426c-a8e4-e91d3cd5b42c",
   "metadata": {},
   "outputs": [],
   "source": [
    "s.table.alterTable(caslib=\"casuser\",\n",
    "                   name=\"tsaclaims_cleaned\",\n",
    "                   drop={\"City\", \"County\"})"
   ]
  },
  {
   "cell_type": "markdown",
   "id": "cfb8e236-d09f-4640-b4a8-974ce793073e",
   "metadata": {},
   "source": [
    "## Examine the Cleaned Data\n",
    "\n",
    "Examine the cleaned data using the columnInfo and fetch actions."
   ]
  },
  {
   "cell_type": "code",
   "execution_count": null,
   "id": "81b83665-072f-4f9a-ae0c-ab1a18a66f0d",
   "metadata": {},
   "outputs": [],
   "source": [
    "s.table.columnInfo(table=\"tsaclaims_cleaned\")"
   ]
  },
  {
   "cell_type": "code",
   "execution_count": null,
   "id": "3fb128f2-17e7-4679-a715-5ed7886c24be",
   "metadata": {},
   "outputs": [],
   "source": [
    "s.table.fetch(table={\"caslib\":\"casuser\", \n",
    "                     \"name\":\"tsaclaims_cleaned\"})"
   ]
  },
  {
   "cell_type": "markdown",
   "id": "3406aeb0-ec0e-4667-9a00-1ec2cbf9e180",
   "metadata": {},
   "source": [
    "# Analyze the Data\n",
    "\n",
    "## Create Frequency Tables \n",
    "\n",
    "The simple.freq action can be used to perform analysis to examine the number of date issues and the number of claims per year of Incident_Date in the overall data. The output of the second simple.freq action is saved as a table named tsaclaims_cleaned_freq_date."
   ]
  },
  {
   "cell_type": "code",
   "execution_count": null,
   "id": "f7a26ebb-6052-4fd0-abc4-47ad195db50c",
   "metadata": {},
   "outputs": [],
   "source": [
    "s.simple.freq(table={\"caslib\":\"casuser\", \n",
    "                     \"name\":\"tsaclaims_cleaned\"},\n",
    "              inputs=[{\"name\":\"Date_Issues\"}])\n",
    "\n",
    "s.simple.freq(table={\"caslib\":\"casuser\", \n",
    "                     \"name\":\"tsaclaims_cleaned\"},\n",
    "              inputs=[{\"name\":\"Incident_Date\",\n",
    "                       \"format\":\"year4.\"}],\n",
    "              casOut={\"caslib\":\"casuser\",\n",
    "                      \"name\":\"tsaclaims_cleaned_freq_date\",\n",
    "                      \"replace\":True})"
   ]
  },
  {
   "cell_type": "markdown",
   "id": "94d63f17-8530-4bed-9102-7991c38fb24f",
   "metadata": {},
   "source": [
    "## Generate Frequencies and Summary Statistics on a Subset of Data\n",
    "\n",
    "Here the simple.freq action is used to generate frequency tables to show the number of claims for each Claim_Type, Claim_Site, and Disposition, as well as to calculate the mean, minimum, maximum, and sum of Close_Amount for claims in Hawaii that do not have date issues. The output of the first simple.freq action is saved as a table named tsaclaims_cleaned_freq_date."
   ]
  },
  {
   "cell_type": "code",
   "execution_count": null,
   "id": "7c3d5d28-1737-488d-8b44-85cee248759b",
   "metadata": {},
   "outputs": [],
   "source": [
    "s.simple.freq(table={\"caslib\":\"casuser\", \n",
    "                     \"name\":\"tsaclaims_cleaned\",\n",
    "                     \"where\":\"StateName='Hawaii' and Date_Issues is null\"},\n",
    "              inputs=[{\"name\":\"Claim_Site\"},\n",
    "                      {\"name\":\"Claim_Type\"},\n",
    "                      {\"name\":\"Disposition\"}],\n",
    "              casOut={\"caslib\":\"casuser\",\n",
    "                      \"name\":\"tsaclaims_cleaned_freq_vars\",\n",
    "                      \"replace\":True})\n",
    "\n",
    "s.simple.summary(table={\"caslib\":\"casuser\", \n",
    "                        \"name\":\"tsaclaims_cleaned\",\n",
    "                        \"where\":\"StateName='Hawaii' and Date_Issues is null\"},\n",
    "                inputs=[{\"name\":\"Close_Amount\"}],\n",
    "                subSet={\"N\", \"MEAN\", \"MIN\", \"MAX\", \"SUM\"})"
   ]
  },
  {
   "cell_type": "markdown",
   "id": "74561a94-4168-45e3-a4b7-32e7b17661d2",
   "metadata": {},
   "source": [
    "# Visualize the Data \n",
    "\n",
    "## Create Bar Charts to Visualize the Results\n",
    "\n",
    "The pandas plot.bar method can be used to visualize data that has been preprocessed using CAS actions. This method uses the matplotlib library through pandas rather than using matplotlib functions directly which creates cleaner plots. The method is used here to create a bar chart that shows the number of claims by year of incident date.\n",
    "\n",
    "### By Year"
   ]
  },
  {
   "cell_type": "code",
   "execution_count": null,
   "id": "b446be5d-8ef7-4023-b35d-9b49ce2759d2",
   "metadata": {},
   "outputs": [],
   "source": [
    "tsaSubset = s.table.fetch(fetchVars=[{\"name\":\"_Fmtvar_\"}, \n",
    "                                     {\"name\":\"_Frequency_\"}], \n",
    "                          table={\"caslib\":\"casuser\", \n",
    "                                 \"name\":\"tsaclaims_cleaned_freq_date\",\n",
    "                                 \"where\":\"_Numvar_\"},\n",
    "                          sortBy=[{\"name\":\"_Fmtvar_\", \n",
    "                                   \"order\":\"ASCENDING\"}])\n",
    "\n",
    "tsa_df = tsaSubset[\"Fetch\"]\n",
    "tsa_df\n",
    "tsaTableYearVFreq = tsa_df.plot.bar(x=\"_Fmtvar_\", y=\"_Frequency_\")\n",
    "tsaTableYearVFreq.set_xlabel(\"Incident Date (Year)\")\n",
    "tsaTableYearVFreq.set_ylabel(\"Number of Claims\")\n",
    "tsaTableYearVFreq.set_title(\"Number of Claims by Year\")"
   ]
  },
  {
   "cell_type": "markdown",
   "id": "4296a6a6-7398-450f-b475-6a1c449706cd",
   "metadata": {},
   "source": [
    "Here the pandas plot.bar method is used multiple times to create bar charts showing the number of claims by claim site, claim type, and disposition.\n",
    "\n",
    "### By Claim Site"
   ]
  },
  {
   "cell_type": "code",
   "execution_count": null,
   "id": "9809a719-12ae-453b-bca2-505adcf9b6c2",
   "metadata": {},
   "outputs": [],
   "source": [
    "tsaSubsetClaimSite = s.table.fetch(fetchVars=[{\"name\":\"_Fmtvar_\"}, \n",
    "                                              {\"name\":\"_Frequency_\"}], \n",
    "                                   table={\"caslib\":\"casuser\", \n",
    "                                          \"name\":\"tsaclaims_cleaned_freq_vars\",\n",
    "                                          \"where\":\"_Column_='Claim_Site'\"},\n",
    "                                   sortBy=[{\"name\":\"_Frequency_\", \n",
    "                                            \"order\":\"DESCENDING\"}])\n",
    "\n",
    "tsaSubsetClaimSite.keys()\n",
    "tsa_df_Claim_Site = tsaSubsetClaimSite[\"Fetch\"]\n",
    "tsa_df_Claim_Site\n",
    "\n",
    "tsaTableClaimSiteVFreq = tsa_df_Claim_Site.plot.bar(x=\"_Fmtvar_\", y=\"_Frequency_\")\n",
    "tsaTableClaimSiteVFreq.set_xlabel(\"Claim Site\")\n",
    "tsaTableClaimSiteVFreq.set_ylabel(\"Number of Claims\")\n",
    "tsaTableClaimSiteVFreq.set_title(\"Number of Claims by Claim Site in Hawaii\")"
   ]
  },
  {
   "cell_type": "markdown",
   "id": "4b9d3e30-a73f-497f-a8a5-4aae3f83ae16",
   "metadata": {},
   "source": [
    "### By Claim Type"
   ]
  },
  {
   "cell_type": "code",
   "execution_count": null,
   "id": "5944d5b0-e253-4601-bd42-fab8d135656e",
   "metadata": {},
   "outputs": [],
   "source": [
    "tsaSubsetClaimType = s.table.fetch(fetchVars=[{\"name\":\"_Fmtvar_\"}, \n",
    "                                              {\"name\":\"_Frequency_\"}], \n",
    "                                   table={\"caslib\":\"casuser\", \n",
    "                                          \"name\":\"tsaclaims_cleaned_freq_vars\",\n",
    "                                          \"where\":\"_Column_='Claim_Type'\"},\n",
    "                                   sortBy=[{\"name\":\"_Frequency_\", \n",
    "                                            \"order\":\"DESCENDING\"}])\n",
    "\n",
    "tsaSubsetClaimType.keys()\n",
    "tsa_df_Claim_Type = tsaSubsetClaimType[\"Fetch\"]\n",
    "tsa_df_Claim_Type\n",
    "\n",
    "tsaTableClaimTypeVFreq = tsa_df_Claim_Type.plot.bar(x=\"_Fmtvar_\", y=\"_Frequency_\")\n",
    "tsaTableClaimTypeVFreq.set_xlabel(\"Claim Type\")\n",
    "tsaTableClaimTypeVFreq.set_ylabel(\"Number of Claims\")\n",
    "tsaTableClaimTypeVFreq.set_title(\"Number of Claims by Claim Type in Hawaii\")"
   ]
  },
  {
   "cell_type": "markdown",
   "id": "1ff229a5-00a4-4582-aa2a-4d9189479870",
   "metadata": {},
   "source": [
    "### By Disposition"
   ]
  },
  {
   "cell_type": "code",
   "execution_count": null,
   "id": "b55c8b9e-68d9-4cd0-88c9-c0b1c6b88d0a",
   "metadata": {},
   "outputs": [],
   "source": [
    "tsaSubsetDisposition = s.table.fetch(fetchVars=[{\"name\":\"_Fmtvar_\"}, \n",
    "                                                {\"name\":\"_Frequency_\"}], \n",
    "                                     table={\"caslib\":\"casuser\", \n",
    "                                            \"name\":\"tsaclaims_cleaned_freq_vars\",\n",
    "                                            \"where\":\"_Column_='Disposition'\"},\n",
    "                                     sortBy=[{\"name\":\"_Frequency_\", \n",
    "                                              \"order\":\"DESCENDING\"}])\n",
    "\n",
    "tsaSubsetDisposition.keys()\n",
    "tsa_df_Disposition = tsaSubsetDisposition[\"Fetch\"]\n",
    "tsa_df_Disposition\n",
    "\n",
    "tsaTableDispositionVFreq = tsa_df_Disposition.plot.bar(x=\"_Fmtvar_\", y=\"_Frequency_\")\n",
    "tsaTableDispositionVFreq.set_xlabel(\"Disposition\")\n",
    "tsaTableDispositionVFreq.set_ylabel(\"Number of Claims\")\n",
    "tsaTableDispositionVFreq.set_title(\"Number of Claims by Disposition in Hawaii\")"
   ]
  }
 ],
 "metadata": {
  "kernelspec": {
   "display_name": "Python 3 (ipykernel)",
   "language": "python",
   "name": "python3"
  },
  "language_info": {
   "codemirror_mode": {
    "name": "ipython",
    "version": 3
   },
   "file_extension": ".py",
   "mimetype": "text/x-python",
   "name": "python",
   "nbconvert_exporter": "python",
   "pygments_lexer": "ipython3",
   "version": "3.9.7"
  }
 },
 "nbformat": 4,
 "nbformat_minor": 5
}
