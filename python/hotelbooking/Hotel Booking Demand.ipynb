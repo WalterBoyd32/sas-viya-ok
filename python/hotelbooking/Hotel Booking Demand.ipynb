{
 "cells": [
  {
   "cell_type": "markdown",
   "id": "0efa22df-aaed-40b4-8bfe-2c9c6e49103b",
   "metadata": {},
   "source": [
    "# Overview\n",
    "\n",
    "The following example demonstrates a data science workflow from start to finish using real world hotel booking demand data. The data files are named H1.csv and H2.csv and can be obtained from https://support.sas.com/documentation/onlinedoc/viya/examples.htm. The data are originally from https://www.sciencedirect.com/science/article/pii/S2352340918315191."
   ]
  },
  {
   "cell_type": "markdown",
   "id": "ca65c123-682b-4be6-a9b4-2589ab447fdc",
   "metadata": {},
   "source": [
    "# Load the SWAT Library and Connect to the CAS Server"
   ]
  },
  {
   "cell_type": "markdown",
   "id": "5622bfc1-5b66-474f-93f9-078288f612b9",
   "metadata": {},
   "source": [
    "Load the SWAT library and then create a connection to the CAS server using the CAS function and assign the CAS connection object to the variable s. The first argument specifies the host name, and the second argument specifies the port."
   ]
  },
  {
   "cell_type": "code",
   "execution_count": null,
   "id": "417b40b4-0edd-48b2-8450-3a06ba4f277e",
   "metadata": {},
   "outputs": [],
   "source": [
    "import swat\n",
    "# change the host and port to match your site\n",
    "s = swat.CAS(\"cloud.example.com\", 10065)"
   ]
  },
  {
   "cell_type": "markdown",
   "id": "2997e327-f5ca-4e11-999a-53bd5347c02d",
   "metadata": {},
   "source": [
    "# Load the Data\n",
    "\n",
    "## Load the Data from a Caslib\n",
    "\n",
    "There are two data files, H1 and H2, that first need to be imported and then combined (appended) together. The default method of loading data is to load the data from the data source portion of a caslib, which is known as a server-side load. This requires the data files to be saved in the active caslib (Casuser). Once the files have been saved to the caslib, use a table.loadTable action for each CSV file to load the data files into memory.\n",
    "\n",
    "In the importOptions parameter, specify CSV for the fileType.\n",
    "For encoding, specify latin1.\n",
    "For guessRows, specify a number that includes all rows in the data set, such as 100,000 so that all rows will be scanned to determine the appropriate data type for each column."
   ]
  },
  {
   "cell_type": "code",
   "execution_count": null,
   "id": "0cea103f-5891-4e27-a421-c44802609186",
   "metadata": {},
   "outputs": [],
   "source": [
    "s.table.loadTable(path=\"H1.csv\",\n",
    "                  caslib=\"casuser\",\n",
    "                  casOut={\"name\":\"H1\",\n",
    "                          \"caslib\":\"casuser\",\n",
    "                          \"replace\":True},\n",
    "                  importOptions={\"fileType\":\"csv\",\n",
    "                                 \"encoding\":\"latin1\",\n",
    "                                 \"guessRows\":\"100000\"})\n",
    "\n",
    "s.table.loadTable(path=\"H2.csv\",\n",
    "                  caslib=\"casuser\",\n",
    "                  casOut={\"name\":\"H2\",\n",
    "                          \"caslib\":\"casuser\",\n",
    "                          \"replace\":True},\n",
    "                  importOptions={\"fileType\":\"csv\",\n",
    "                                 \"encoding\":\"latin1\",\n",
    "                                 \"guessRows\":\"100000\"})"
   ]
  },
  {
   "cell_type": "markdown",
   "id": "06707af7-7109-4a41-a3e9-0f8687728c37",
   "metadata": {},
   "source": [
    "# Explore the Data"
   ]
  },
  {
   "cell_type": "markdown",
   "id": "3cd1e336-ba26-40ef-aa98-198647126156",
   "metadata": {},
   "source": [
    "## Create a Reference to the In-Memory Table"
   ]
  },
  {
   "cell_type": "code",
   "execution_count": null,
   "id": "aaf1878b-7ed9-4b7c-a7a1-686e2ca6fd36",
   "metadata": {},
   "outputs": [],
   "source": [
    "tbl1 = s.CASTable(name='H1', caslib='casuser')\n",
    "tbl2 = s.CASTable(name='H2', caslib='casuser')"
   ]
  },
  {
   "cell_type": "markdown",
   "id": "0573e330-fc70-4359-b676-dddc1f61967e",
   "metadata": {},
   "source": [
    "## Count the Number of Rows\n",
    "\n",
    "Count the number of rows in each table. Use the table.recordCount action to verify that the H1 and H2 data files were imported with the correct number of rows. H1 should have 40,060 rows and H2 should have 79,330 rows."
   ]
  },
  {
   "cell_type": "code",
   "execution_count": null,
   "id": "80fc83fd-c244-4c06-b818-aad3b0454bcc",
   "metadata": {},
   "outputs": [],
   "source": [
    "tbl1.recordCount()\n",
    "tbl2.recordCount()"
   ]
  },
  {
   "cell_type": "markdown",
   "id": "a2e011d0-dc54-4685-bbba-0e921668021b",
   "metadata": {},
   "source": [
    "## Examine the Columns\n",
    "\n",
    "Examine the columns in each table using the table.columnInfo action to make sure the columns have the correct type. The result includes the names of columns, and information about each column, including its label (if applicable), type, length, and format."
   ]
  },
  {
   "cell_type": "code",
   "execution_count": null,
   "id": "cde8c138-cf0e-4c37-ab55-eb55344bfb0e",
   "metadata": {},
   "outputs": [],
   "source": [
    "tbl1.columnInfo()"
   ]
  },
  {
   "cell_type": "code",
   "execution_count": null,
   "id": "5417a8c0-9f19-4fb6-9922-e8e40d8d4629",
   "metadata": {},
   "outputs": [],
   "source": [
    "tbl2.columnInfo()"
   ]
  },
  {
   "cell_type": "markdown",
   "id": "2715e403-d1c1-48e3-977d-dc1a457d8859",
   "metadata": {},
   "source": [
    "## Specify Column Type When Loading Data\n",
    "\n",
    "By default, the \"children\" column is imported as a double type in table H1 but it is imported as a varchar type in table H2 (due to missing values). The columns in each table need to be the same type for the tables to be appended. Therefore, it is necessary to add a vars subparameter in the loadTable action for H2 to import the children column as a double type. Use the columnInfo action to view the table H2."
   ]
  },
  {
   "cell_type": "code",
   "execution_count": null,
   "id": "9fb6842f-95c6-465c-9942-1f941bf87053",
   "metadata": {},
   "outputs": [],
   "source": [
    "s.table.loadTable(path=\"H2.csv\",\n",
    "                  caslib=\"casuser\",\n",
    "                  casOut={\"name\":\"H2\",\n",
    "                          \"caslib\":\"casuser\",\n",
    "                          \"replace\":True},\n",
    "                  importOptions={\"fileType\":\"csv\",\n",
    "                                 \"encoding\":\"latin1\",\n",
    "                                 \"guessRows\":\"10000\",\n",
    "                                 \"vars\":{\"children\":{\"type\":\"double\"}}})\n",
    "\n",
    "tbl2.columnInfo()"
   ]
  },
  {
   "cell_type": "markdown",
   "id": "c9e17d63-1add-43cf-b64d-ee69c8f4198c",
   "metadata": {},
   "source": [
    "The column information for table H2 now correctly specifies that the Children column has a double type."
   ]
  },
  {
   "cell_type": "markdown",
   "id": "00007ebf-d8df-4b83-94b0-a3f43669741b",
   "metadata": {},
   "source": [
    "# Prepare the Data\n",
    "\n",
    "## Create a New Column to Identify Hotel Type\n",
    "\n",
    "Table H1 contains booking information about a resort hotel and table H2 contains booking information about a city hotel. Prior to appending the tables, use the table.copyTable action with the computedVars and computedVarsProgram subparameters to create a new column in each table named \"hotel\" to identify whether the bookings come from the resort hotel or city hotel. Set the values of hotel to \"R\" in table H1 to represent the resort hotel and \"C\" in table H2 to represent the city hotel."
   ]
  },
  {
   "cell_type": "code",
   "execution_count": null,
   "id": "57ae5161-a2e1-44ae-8c5c-d5212e7856c1",
   "metadata": {},
   "outputs": [],
   "source": [
    "tbl1.computedVars = {\"name\":\"hotel\"}\n",
    "tbl1.computedVarsProgram = \"hotel='R'\"\n",
    "tbl1.copyTable(casOut={\"caslib\":\"casuser\", \n",
    "                       \"name\":\"H1_new\", \n",
    "                       \"replace\":True})\n",
    "tbl1_new = s.CASTable(\"H1_new\", caslib=\"casuser\")"
   ]
  },
  {
   "cell_type": "code",
   "execution_count": null,
   "id": "d5832483-77b7-46b8-8f18-5f80e80e0f6f",
   "metadata": {},
   "outputs": [],
   "source": [
    "tbl2.computedVars = {\"name\":\"hotel\"}\n",
    "tbl2.computedVarsProgram = \"hotel='C'\"\n",
    "tbl2.copyTable(casOut={\"caslib\":\"casuser\", \n",
    "                       \"name\":\"H2_new\", \n",
    "                       \"replace\":True})\n",
    "tbl2_new = s.CASTable(\"H2_new\", caslib=\"casuser\")"
   ]
  },
  {
   "cell_type": "markdown",
   "id": "4eb2b3a9-55fb-461d-805a-34e620c0c7e3",
   "metadata": {},
   "source": [
    "## Append the Tables\n",
    "\n",
    "The next step is to append tables H1 and H2. Use table.append to combine rows from the source table H1 to the target table H2. Use table.alterTable to rename the appended table H2_new to hotel_bookings.\n",
    "\n",
    "The target parameter specifies H2_new as the table that will have the source table appended to it.\n",
    "The source parameter specifies H1_new as the table that will be appended to the target table."
   ]
  },
  {
   "cell_type": "code",
   "execution_count": null,
   "id": "49547eb4-28c5-4898-9424-c04d7c85803b",
   "metadata": {},
   "outputs": [],
   "source": [
    "s.table.append(target={\"caslib\":\"casuser\", \n",
    "                       \"name\":\"H2_new\"},\n",
    "               source={\"caslib\":\"casuser\", \n",
    "                       \"name\":\"H1_new\"})\n",
    "\n",
    "tbl2_new.alterTable(rename=\"hotel_bookings\")"
   ]
  },
  {
   "cell_type": "code",
   "execution_count": null,
   "id": "80e687b2-de6f-4695-87e5-144b089b00b1",
   "metadata": {},
   "outputs": [],
   "source": [
    "tbl_hotel = s.CASTable(\"hotel_bookings\", caslib=\"casuser\")"
   ]
  },
  {
   "cell_type": "markdown",
   "id": "d25e689f-a641-4951-b713-abf9fda63ec4",
   "metadata": {},
   "source": [
    "## Examine Column Information and Count Distinct and Missing Values\n",
    "\n",
    "Check column data types and check for null values. Use columnInfo to check each column's data type. Use simple.distinct to identify the number of distinct values for each column."
   ]
  },
  {
   "cell_type": "code",
   "execution_count": null,
   "id": "b1227c67-c80a-485f-9c28-ed9343344bc3",
   "metadata": {},
   "outputs": [],
   "source": [
    "tbl_hotel.columnInfo()"
   ]
  },
  {
   "cell_type": "code",
   "execution_count": null,
   "id": "5cb4223e-a4be-48fb-8eb7-beb10274d19f",
   "metadata": {},
   "outputs": [],
   "source": [
    "tbl_hotel.distinct()"
   ]
  },
  {
   "cell_type": "markdown",
   "id": "e4c672fd-4c1e-415b-bd2e-dfe6398025fb",
   "metadata": {},
   "source": [
    "The simple.distinct action shows that there are 4 missing values in the Children column."
   ]
  },
  {
   "cell_type": "markdown",
   "id": "798bc7f5-a99f-4d5e-bd32-3ac3361c1bca",
   "metadata": {},
   "source": [
    "## Replace Missing Values with Zeros\n",
    "\n",
    "Use the table.update action to replace missing values in the Children column with zero. Use a simple.distinct action to ensure that there are no missing values."
   ]
  },
  {
   "cell_type": "code",
   "execution_count": null,
   "id": "9c82f1b8-bc24-4373-9df5-1d00b88fa370",
   "metadata": {},
   "outputs": [],
   "source": [
    "tbl_hotel.where = \"Children is null\"\n",
    "tbl_hotel.update(set=[{\"var\":\"Children\", \n",
    "                       \"value\":\"0\"}])"
   ]
  },
  {
   "cell_type": "code",
   "execution_count": null,
   "id": "83162314-1617-4f56-9fc9-8a914bd83831",
   "metadata": {},
   "outputs": [],
   "source": [
    "del tbl_hotel.where\n",
    "tbl_hotel.vars = [{\"name\":\"children\"}]\n",
    "tbl_hotel.distinct()"
   ]
  },
  {
   "cell_type": "markdown",
   "id": "4459f96a-cdd8-403a-b0a0-e14ab9c90e8c",
   "metadata": {},
   "source": [
    "## Subset the Data to Exclude Invalid Rows\n",
    "\n",
    "Use a table.copyTable action with an expression in the where parameter to subset the rows to keep only the rows where children, adults, or babies are greater than zero. This removes rows where the values of the adults, babies, and children columns are zero, since all three columns cannot be zero. Then use table.recordCount to count the number of rows to see how many cases are now in the subsetted data."
   ]
  },
  {
   "cell_type": "code",
   "execution_count": null,
   "id": "35061b3e-0e45-4591-ac6a-88a3b50bc2e0",
   "metadata": {},
   "outputs": [],
   "source": [
    "del tbl_hotel.vars\n",
    "tbl_hotel.where = \"children > 0 | adults > 0 | babies > 0\"\n",
    "tbl_hotel.copyTable(casOut={\"name\":\"hotel_bookings_subset\", \n",
    "                            \"replace\":True})\n",
    "tbl_subset = s.CASTable(name=\"hotel_bookings_subset\", caslib=\"casuser\")\n",
    "tbl_subset.recordCount()"
   ]
  },
  {
   "cell_type": "markdown",
   "id": "497d0d41-fe93-434b-bb15-3dffd3c16233",
   "metadata": {},
   "source": [
    "# Analyze the Data\n",
    "\n",
    "## Create a Frequency Table\n",
    "\n",
    "Load the freqTab action set and use the freqTab.freqTab action to create a frequency distribution for country and include only bookings that have not been canceled.\n",
    "\n",
    "In the order parameter, specify FREQ to sort rows by descending frequency count.\n",
    "In the vars subparameter, specify country as the column that the frequencies will be calculated on.\n",
    "Use the where subparameter to subset the data so that frequencies are calculated only on bookings that are not canceled."
   ]
  },
  {
   "cell_type": "code",
   "execution_count": null,
   "id": "9c2ca375-1f3d-4456-bd11-7d2f41d7eab0",
   "metadata": {},
   "outputs": [],
   "source": [
    "del tbl_hotel.where\n",
    "s.loadActionSet(\"freqTab\")\n",
    "tbl_subset.vars = [{\"name\":\"country\"}]\n",
    "tbl_subset.where = \"iscanceled = 0\"\n",
    "tbl_subset.freqTab(order=\"FREQ\")"
   ]
  },
  {
   "cell_type": "markdown",
   "id": "1e3cc2da-67bb-4038-88bb-c6eb31187be1",
   "metadata": {},
   "source": [
    "## Calculate Summary Statistics by Month and Hotel Type\n",
    "\n",
    "Examine how the price varies per night over the year. Use simple.summary to calculate the average (mean) daily rate of bookings by month for each hotel type (Resort and City), excluding canceled bookings, and save the results to separate tables based on each hotel type, named \"bookings_summary_resort\" and \"bookings_summary_city\". For each simple.summary action:\n",
    "\n",
    "In the table parameter, specify arrivaldatemonth as the column for the groupBy subparameter so that statistics are calculated for each month in the resulting output table.\n",
    "\n",
    "In the where subparameter, specify an expression that selects only bookings that are not canceled and the type of hotel.\n",
    "In the inputs parameter, specify adr so that statistics are calculated on this column.\n",
    "\n",
    "In the subset parameter, specify MEAN to calculate the mean of the column specified in the inputs parameter, adr.\n",
    "\n",
    "Use a table.fetch action to fetch the arrivaldatemonth and _Mean_ columns from the output tables. The months are returned in alphabetical order, and will need to be sorted in the correct order."
   ]
  },
  {
   "cell_type": "code",
   "execution_count": null,
   "id": "06d723a9-9528-4778-9cb6-505e80490fb1",
   "metadata": {},
   "outputs": [],
   "source": [
    "del tbl_subset.vars \n",
    "del tbl_subset.where\n",
    "\n",
    "tbl_subset.groupBy = [{\"name\":\"arrivaldatemonth\"}]\n",
    "tbl_subset.where = \"iscanceled = 0 & hotel='R'\"\n",
    "tbl_subset.summary(inputs={\"adr\"},\n",
    "                   subset={\"MEAN\"},\n",
    "                   casout={\"name\":\"bookings_summary_resort\", \n",
    "                           \"replace\":True})\n",
    "tbl_resort = s.CASTable(\"bookings_summary_resort\", caslib=\"casuser\")\n",
    "\n",
    "tbl_subset.groupBy = [{\"name\":\"arrivaldatemonth\"}]\n",
    "tbl_subset.where = \"iscanceled = 0 & hotel='C'\"\n",
    "tbl_subset.summary(inputs={\"adr\"},\n",
    "                   subset={\"MEAN\"},\n",
    "                   casout={\"name\":\"bookings_summary_city\", \n",
    "                           \"replace\":True})\n",
    "tbl_city = s.CASTable(\"bookings_summary_city\", caslib=\"casuser\")"
   ]
  },
  {
   "cell_type": "code",
   "execution_count": null,
   "id": "5b374d69-5160-4b11-bd1d-f7ad9e5601aa",
   "metadata": {},
   "outputs": [],
   "source": [
    "tbl_resort.fetch(fetchVars={\"arrivaldatemonth\", \n",
    "                            \"_Mean_\"})"
   ]
  },
  {
   "cell_type": "code",
   "execution_count": null,
   "id": "2ecd94e7-c1d3-44ac-a590-9155f89f32d3",
   "metadata": {},
   "outputs": [],
   "source": [
    "tbl_city.fetch(fetchVars={\"arrivaldatemonth\", \n",
    "                          \"_Mean_\"})"
   ]
  },
  {
   "cell_type": "code",
   "execution_count": null,
   "id": "55799e84-6939-4293-aa21-4bd0ed5101ae",
   "metadata": {},
   "outputs": [],
   "source": [
    "tbl_subset"
   ]
  },
  {
   "cell_type": "markdown",
   "id": "c33d6632-9266-405f-8231-339003acc767",
   "metadata": {},
   "source": [
    "## Sort Results by Month\n",
    "\n",
    "To display the tables with the month column sorted in order, first use the table.copyTable action with the computedVars and computedVarsProgram parameters to create a numeric column named \"monthno\" containing the month number for each month based on the value of arrivaldatemonth. The result is saved to a table named \"hotel_bookings_subset_monthno\". For the simple.summary actions, include monthno in the groupBy parameter so that the fetched tables can be sorted by month number."
   ]
  },
  {
   "cell_type": "code",
   "execution_count": null,
   "id": "ecc38016-ab10-4574-a8d1-809377f8272b",
   "metadata": {},
   "outputs": [],
   "source": [
    "del tbl_subset.groupBy\n",
    "del tbl_subset.where\n",
    "tbl_subset.computedVars = [{\"name\":\"monthno\"}]\n",
    "tbl_subset.computedVarsProgram = \"\"\"if arrivaldatemonth='January' then monthno=1;\n",
    "                                    else if arrivaldatemonth='February' then monthno=2;\n",
    "                                    else if arrivaldatemonth='March' then monthno=3;\n",
    "                                    else if arrivaldatemonth='April' then monthno=4;\n",
    "                                    else if arrivaldatemonth='May' then monthno=5;\n",
    "                                    else if arrivaldatemonth='June' then monthno=6;\n",
    "                                    else if arrivaldatemonth='July' then monthno=7;\n",
    "                                    else if arrivaldatemonth='August' then monthno=8;\n",
    "                                    else if arrivaldatemonth='September' then monthno=9;\n",
    "                                    else if arrivaldatemonth='October' then monthno=10;\n",
    "                                    else if arrivaldatemonth='November' then monthno=11;\n",
    "                                    else if arrivaldatemonth='December' then monthno=12\"\"\"\n",
    "\n",
    "tbl_subset.copyTable(casout={\"caslib\":\"casuser\", \n",
    "                             \"name\":\"hotel_bookings_subset_monthno\", \n",
    "                             \"replace\":True})\n",
    "\n",
    "tbl_subset_monthno = s.CASTable(name=\"hotel_bookings_subset_monthno\", caslib=\"casuser\")"
   ]
  },
  {
   "cell_type": "code",
   "execution_count": null,
   "id": "897318ee-2f14-484a-8e33-7783e7432ced",
   "metadata": {},
   "outputs": [],
   "source": [
    "tbl_subset_monthno.head()"
   ]
  },
  {
   "cell_type": "code",
   "execution_count": null,
   "id": "dabc986b-3e34-4be0-a1f0-67f2c718ffa7",
   "metadata": {},
   "outputs": [],
   "source": [
    "tbl_subset_monthno.groupBy = [{\"name\":\"arrivaldatemonth\"}, \n",
    "                              {\"name\":\"monthno\"}, \n",
    "                              {\"name\":\"hotel\"}]\n",
    "tbl_subset_monthno.where = \"iscanceled = 0 & hotel='R'\"\n",
    "tbl_subset_monthno.summary(inputs={\"adr\"},\n",
    "                           subset={\"MEAN\"},\n",
    "                           casout={\"name\":\"bookings_summary_resort_monthno\", \n",
    "                                   \"replace\":True})\n",
    "tbl_subset_resort_monthno = s.CASTable(\"bookings_summary_resort_monthno\", caslib=\"casuser\")"
   ]
  },
  {
   "cell_type": "code",
   "execution_count": null,
   "id": "978bf198-4d2e-4a25-b1a1-98ba8020b480",
   "metadata": {},
   "outputs": [],
   "source": [
    "tbl_subset_resort_monthno.head()"
   ]
  },
  {
   "cell_type": "code",
   "execution_count": null,
   "id": "1562177e-1198-42aa-a29e-635c33b5dacb",
   "metadata": {},
   "outputs": [],
   "source": [
    "tbl_subset_monthno.where = \"iscanceled = 0 & hotel='C'\"\n",
    "tbl_subset_monthno.summary(inputs={\"adr\"},\n",
    "                           subset={\"MEAN\"},\n",
    "                           casout={\"name\":\"bookings_summary_city_monthno\", \n",
    "                                   \"replace\":True})\n",
    "tbl_subset_city_monthno = s.CASTable(\"bookings_summary_city_monthno\", caslib=\"casuser\")"
   ]
  },
  {
   "cell_type": "code",
   "execution_count": null,
   "id": "c503bad6-3cf8-4787-98e0-1dd981f9584c",
   "metadata": {},
   "outputs": [],
   "source": [
    "tbl_subset_monthno"
   ]
  },
  {
   "cell_type": "code",
   "execution_count": null,
   "id": "416c2354-3954-4928-8672-481fd3df79ae",
   "metadata": {},
   "outputs": [],
   "source": [
    "del tbl_subset_monthno.where\n",
    "del tbl_subset_monthno.groupBy\n",
    "tbl_subset_resort_monthno.alterTable(columns=[{\"name\":\"_Mean_\", \"rename\":\"Mean Average Daily Rate\"}])"
   ]
  },
  {
   "cell_type": "code",
   "execution_count": null,
   "id": "89723e6c-d5df-4c25-94ab-08ccc9dad4ca",
   "metadata": {},
   "outputs": [],
   "source": [
    "tbl_subset_city_monthno.alterTable(columns=[{\"name\":\"_Mean_\", \"rename\":\"Mean Average Daily Rate\"}])"
   ]
  },
  {
   "cell_type": "code",
   "execution_count": null,
   "id": "a2b7af64-b0d1-4003-9e32-9a6c99710c02",
   "metadata": {},
   "outputs": [],
   "source": [
    "resort = tbl_subset_resort_monthno.fetch(fetchVars={\"arrivaldatemonth\", \n",
    "                                                    \"Mean Average Daily Rate\", \n",
    "                                                    \"hotel\"},\n",
    "                                         sortBy=[{\"name\":\"monthno\"}])"
   ]
  },
  {
   "cell_type": "code",
   "execution_count": null,
   "id": "deaf0c1d-fbe9-4669-815d-4b1de2444914",
   "metadata": {},
   "outputs": [],
   "source": [
    "city = tbl_subset_city_monthno.fetch(fetchVars={\"arrivaldatemonth\", \n",
    "                                                \"Mean Average Daily Rate\", \n",
    "                                                \"hotel\"},\n",
    "                                     sortBy=[{\"name\":\"monthno\"}])"
   ]
  },
  {
   "cell_type": "markdown",
   "id": "4d9008df-6229-4220-8d84-a21c7ed039dc",
   "metadata": {},
   "source": [
    "# Visualize the Data\n",
    "\n",
    "## Create Line Charts to Visualize Results by Month\n",
    "\n",
    "The pandas plot.line method can be used to visualize data that has been preprocessed using CAS actions. This method uses the matplotlib library through pandas rather than using matplotlib functions directly which creates cleaner plots. The method is used here to create line charts that show the mean average daily rate of bookings by month for each hotel type."
   ]
  },
  {
   "cell_type": "code",
   "execution_count": null,
   "id": "c9c7c6bf-67de-4ded-a6cf-652a99c2d3a5",
   "metadata": {},
   "outputs": [],
   "source": [
    "resort_df = resort[\"Fetch\"]\n",
    "resortMonthVBookings = resort_df.plot.line(x=\"ArrivalDateMonth\", y=\"Mean Average Daily Rate\", rot=90)\n",
    "resortMonthVBookings.set_xlabel(\"Month\")\n",
    "resortMonthVBookings.set_ylabel(\"Mean Average Daily Rate\")\n",
    "resortMonthVBookings.set_title(\"Mean Average Daily Rate by Month for Resort Hotel\")"
   ]
  },
  {
   "cell_type": "code",
   "execution_count": null,
   "id": "c3909238-c3ac-4bd3-a6f2-2f31423df76d",
   "metadata": {},
   "outputs": [],
   "source": [
    "city_df = city[\"Fetch\"]\n",
    "cityMonthVBookings = city_df.plot.line(x=\"ArrivalDateMonth\", y=\"Mean Average Daily Rate\", rot=90)\n",
    "cityMonthVBookings.set_xlabel(\"Month\")\n",
    "cityMonthVBookings.set_ylabel(\"Mean Average Daily Rate\")\n",
    "cityMonthVBookings.set_title(\"Mean Average Daily Rate by Month for City Hotel\")"
   ]
  },
  {
   "cell_type": "markdown",
   "id": "b0342972-f71f-498f-a94f-2a9299afb5db",
   "metadata": {},
   "source": [
    "The sns.lineplot function from the Seaborn library can be used to create a grouped line chart with the month variable on the x-axis and the hotel type as the group variable. The Seaborn method does not require reshaping the data from long to wide. Before creating the line chart, first append the summary tables for resort and city hotels together, fetch the rows from the appended table, and then save it as an object named bookings_appended."
   ]
  },
  {
   "cell_type": "code",
   "execution_count": null,
   "id": "11e361a9-78c3-4901-be1e-37cb7aa02671",
   "metadata": {},
   "outputs": [],
   "source": [
    "s.table.append(target={\"caslib\":\"casuser\",\n",
    "                       \"name\":\"bookings_summary_city_monthno\"},\n",
    "               source={\"caslib\":\"casuser\",\n",
    "                       \"name\":\"bookings_summary_resort_monthno\"})            "
   ]
  },
  {
   "cell_type": "code",
   "execution_count": null,
   "id": "47ba9669-603f-4f5a-bea9-291c748979ca",
   "metadata": {},
   "outputs": [],
   "source": [
    "s.table.alterTable(name=\"bookings_summary_city_monthno\",\n",
    "                   rename=\"bookings_summary_appended\",\n",
    "                   caslib=\"casuser\")"
   ]
  },
  {
   "cell_type": "code",
   "execution_count": null,
   "id": "093b0b41-ac47-47ac-9c40-5f4efcdf6ab7",
   "metadata": {},
   "outputs": [],
   "source": [
    "bookings_appended = s.table.fetch(\"bookings_summary_appended\",\n",
    "                                  to=25)"
   ]
  },
  {
   "cell_type": "code",
   "execution_count": null,
   "id": "66417e76-eee4-4e42-ad97-46f6aa6959f3",
   "metadata": {},
   "outputs": [],
   "source": [
    "import matplotlib.pyplot as plt\n",
    "import seaborn as sns"
   ]
  },
  {
   "cell_type": "code",
   "execution_count": null,
   "id": "b050f8cc-9ffb-42ec-8170-1a61b2f89eba",
   "metadata": {},
   "outputs": [],
   "source": [
    "appended_df = bookings_appended[\"Fetch\"]\n",
    "g = sns.lineplot(data=appended_df, \n",
    "                 x='monthno', \n",
    "                 y='Mean Average Daily Rate', \n",
    "                 hue='hotel')\n",
    "g.set(xlabel=\"Month\",\n",
    "      ylabel=\"Mean Average Daily Rate\")\n",
    "plt.xticks(rotation=70)\n",
    "plt.title(\"Mean Average Daily Rate by Month and Hotel Type\")\n",
    "plt.legend(title='Hotel Type')\n",
    "g.set_xticks([1, 2, 3, \n",
    "              4, 5, 6, \n",
    "              7, 8, 9, \n",
    "              10, 11, 12])\n",
    "g.set_xticklabels(['Jan', 'Feb', \"Mar\", \n",
    "                   \"Apr\", \"May\", \"Jun\", \n",
    "                   \"Jul\", \"Aug\", \"Sep\", \n",
    "                   \"Oct\", \"Nov\", \"Dec\"])\n",
    "plt.show()"
   ]
  },
  {
   "cell_type": "code",
   "execution_count": null,
   "id": "23dba4bc-05d9-4bee-8413-729079730852",
   "metadata": {},
   "outputs": [],
   "source": []
  }
 ],
 "metadata": {
  "kernelspec": {
   "display_name": "Python 3 (ipykernel)",
   "language": "python",
   "name": "python3"
  },
  "language_info": {
   "codemirror_mode": {
    "name": "ipython",
    "version": 3
   },
   "file_extension": ".py",
   "mimetype": "text/x-python",
   "name": "python",
   "nbconvert_exporter": "python",
   "pygments_lexer": "ipython3",
   "version": "3.9.7"
  }
 },
 "nbformat": 4,
 "nbformat_minor": 5
}
